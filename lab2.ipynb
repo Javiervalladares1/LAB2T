{
 "cells": [
  {
   "cell_type": "code",
   "execution_count": 3,
   "id": "1d4acd62",
   "metadata": {},
   "outputs": [
    {
     "data": {
      "text/html": [
       "<pre style=\"white-space:pre;overflow-x:auto;line-height:normal;font-family:Menlo,'DejaVu Sans Mono',consolas,'Courier New',monospace\">\n",
       "<span style=\"color: #008080; text-decoration-color: #008080; font-weight: bold\">Línea </span><span style=\"color: #008080; text-decoration-color: #008080; font-weight: bold\">1</span><span style=\"color: #008080; text-decoration-color: #008080; font-weight: bold\">:</span> <span style=\"color: #800080; text-decoration-color: #800080; font-weight: bold\">𝑎</span><span style=\"font-weight: bold\">(</span>𝑎|𝑏<span style=\"font-weight: bold\">)</span> ∗ 𝑏 + 𝑎?\n",
       "</pre>\n"
      ],
      "text/plain": [
       "\n",
       "\u001b[1;36mLínea \u001b[0m\u001b[1;36m1\u001b[0m\u001b[1;36m:\u001b[0m \u001b[1;35m𝑎\u001b[0m\u001b[1m(\u001b[0m𝑎|𝑏\u001b[1m)\u001b[0m ∗ 𝑏 + 𝑎?\n"
      ]
     },
     "metadata": {},
     "output_type": "display_data"
    },
    {
     "data": {
      "text/html": [
       "<pre style=\"white-space:pre;overflow-x:auto;line-height:normal;font-family:Menlo,'DejaVu Sans Mono',consolas,'Courier New',monospace\">Resultado: <span style=\"color: #008000; text-decoration-color: #008000\">✔ Balanceada</span>\n",
       "</pre>\n"
      ],
      "text/plain": [
       "Resultado: \u001b[32m✔ Balanceada\u001b[0m\n"
      ]
     },
     "metadata": {},
     "output_type": "display_data"
    },
    {
     "data": {
      "text/html": [
       "<pre style=\"white-space:pre;overflow-x:auto;line-height:normal;font-family:Menlo,'DejaVu Sans Mono',consolas,'Courier New',monospace\">Detalle: Expresión balanceada.\n",
       "</pre>\n"
      ],
      "text/plain": [
       "Detalle: Expresión balanceada.\n"
      ]
     },
     "metadata": {},
     "output_type": "display_data"
    },
    {
     "data": {
      "text/html": [
       "<pre style=\"white-space:pre;overflow-x:auto;line-height:normal;font-family:Menlo,'DejaVu Sans Mono',consolas,'Courier New',monospace\">\n",
       "  <span style=\"font-weight: bold\">Pasos de la pila:</span>\n",
       "</pre>\n"
      ],
      "text/plain": [
       "\n",
       "  \u001b[1mPasos de la pila:\u001b[0m\n"
      ]
     },
     "metadata": {},
     "output_type": "display_data"
    },
    {
     "data": {
      "text/html": [
       "<pre style=\"white-space:pre;overflow-x:auto;line-height:normal;font-family:Menlo,'DejaVu Sans Mono',consolas,'Courier New',monospace\">  Paso |    Pos |   Char |       Acción | Pila después\n",
       "</pre>\n"
      ],
      "text/plain": [
       "  Paso |    Pos |   Char |       Acción | Pila después\n"
      ]
     },
     "metadata": {},
     "output_type": "display_data"
    },
    {
     "data": {
      "text/html": [
       "<pre style=\"white-space:pre;overflow-x:auto;line-height:normal;font-family:Menlo,'DejaVu Sans Mono',consolas,'Courier New',monospace\">  ----------------------------------------------------------------\n",
       "</pre>\n"
      ],
      "text/plain": [
       "  ----------------------------------------------------------------\n"
      ]
     },
     "metadata": {},
     "output_type": "display_data"
    },
    {
     "data": {
      "text/html": [
       "<pre style=\"white-space:pre;overflow-x:auto;line-height:normal;font-family:Menlo,'DejaVu Sans Mono',consolas,'Courier New',monospace\">     <span style=\"color: #008080; text-decoration-color: #008080; font-weight: bold\">1</span> |      <span style=\"color: #008080; text-decoration-color: #008080; font-weight: bold\">2</span> |      <span style=\"font-weight: bold\">(</span> |         push | <span style=\"font-weight: bold\">(</span>\n",
       "</pre>\n"
      ],
      "text/plain": [
       "     \u001b[1;36m1\u001b[0m |      \u001b[1;36m2\u001b[0m |      \u001b[1m(\u001b[0m |         push | \u001b[1m(\u001b[0m\n"
      ]
     },
     "metadata": {},
     "output_type": "display_data"
    },
    {
     "data": {
      "text/html": [
       "<pre style=\"white-space:pre;overflow-x:auto;line-height:normal;font-family:Menlo,'DejaVu Sans Mono',consolas,'Courier New',monospace\">     <span style=\"color: #008080; text-decoration-color: #008080; font-weight: bold\">2</span> |      <span style=\"color: #008080; text-decoration-color: #008080; font-weight: bold\">6</span> |      <span style=\"font-weight: bold\">)</span> |          pop | \n",
       "</pre>\n"
      ],
      "text/plain": [
       "     \u001b[1;36m2\u001b[0m |      \u001b[1;36m6\u001b[0m |      \u001b[1m)\u001b[0m |          pop | \n"
      ]
     },
     "metadata": {},
     "output_type": "display_data"
    },
    {
     "data": {
      "text/html": [
       "<pre style=\"white-space:pre;overflow-x:auto;line-height:normal;font-family:Menlo,'DejaVu Sans Mono',consolas,'Courier New',monospace\">\n",
       "<span style=\"color: #008080; text-decoration-color: #008080; font-weight: bold\">Línea </span><span style=\"color: #008080; text-decoration-color: #008080; font-weight: bold\">2</span><span style=\"color: #008080; text-decoration-color: #008080; font-weight: bold\">:</span> <span style=\"color: #800080; text-decoration-color: #800080; font-weight: bold\">A</span><span style=\"font-weight: bold\">(</span>𝑎|𝑏<span style=\"font-weight: bold\">)</span>𝑏B ∗ <span style=\"font-weight: bold\">[</span>𝑎𝑧<span style=\"font-weight: bold\">]</span>𝑏<span style=\"font-weight: bold\">]</span>\n",
       "</pre>\n"
      ],
      "text/plain": [
       "\n",
       "\u001b[1;36mLínea \u001b[0m\u001b[1;36m2\u001b[0m\u001b[1;36m:\u001b[0m \u001b[1;35mA\u001b[0m\u001b[1m(\u001b[0m𝑎|𝑏\u001b[1m)\u001b[0m𝑏B ∗ \u001b[1m[\u001b[0m𝑎𝑧\u001b[1m]\u001b[0m𝑏\u001b[1m]\u001b[0m\n"
      ]
     },
     "metadata": {},
     "output_type": "display_data"
    },
    {
     "data": {
      "text/html": [
       "<pre style=\"white-space:pre;overflow-x:auto;line-height:normal;font-family:Menlo,'DejaVu Sans Mono',consolas,'Courier New',monospace\">Resultado: <span style=\"color: #800000; text-decoration-color: #800000\">✘ NO balanceada</span>\n",
       "</pre>\n"
      ],
      "text/plain": [
       "Resultado: \u001b[31m✘ NO balanceada\u001b[0m\n"
      ]
     },
     "metadata": {},
     "output_type": "display_data"
    },
    {
     "data": {
      "text/html": [
       "<pre style=\"white-space:pre;overflow-x:auto;line-height:normal;font-family:Menlo,'DejaVu Sans Mono',consolas,'Courier New',monospace\">Detalle: Error: se encontró <span style=\"color: #008000; text-decoration-color: #008000\">']'</span> en la posición <span style=\"color: #008080; text-decoration-color: #008080; font-weight: bold\">17</span> pero la pila estaba vacía.\n",
       "</pre>\n"
      ],
      "text/plain": [
       "Detalle: Error: se encontró \u001b[32m'\u001b[0m\u001b[32m]\u001b[0m\u001b[32m'\u001b[0m en la posición \u001b[1;36m17\u001b[0m pero la pila estaba vacía.\n"
      ]
     },
     "metadata": {},
     "output_type": "display_data"
    },
    {
     "data": {
      "text/html": [
       "<pre style=\"white-space:pre;overflow-x:auto;line-height:normal;font-family:Menlo,'DejaVu Sans Mono',consolas,'Courier New',monospace\">\n",
       "  <span style=\"font-weight: bold\">Pasos de la pila:</span>\n",
       "</pre>\n"
      ],
      "text/plain": [
       "\n",
       "  \u001b[1mPasos de la pila:\u001b[0m\n"
      ]
     },
     "metadata": {},
     "output_type": "display_data"
    },
    {
     "data": {
      "text/html": [
       "<pre style=\"white-space:pre;overflow-x:auto;line-height:normal;font-family:Menlo,'DejaVu Sans Mono',consolas,'Courier New',monospace\">  Paso |    Pos |   Char |       Acción | Pila después\n",
       "</pre>\n"
      ],
      "text/plain": [
       "  Paso |    Pos |   Char |       Acción | Pila después\n"
      ]
     },
     "metadata": {},
     "output_type": "display_data"
    },
    {
     "data": {
      "text/html": [
       "<pre style=\"white-space:pre;overflow-x:auto;line-height:normal;font-family:Menlo,'DejaVu Sans Mono',consolas,'Courier New',monospace\">  ----------------------------------------------------------------\n",
       "</pre>\n"
      ],
      "text/plain": [
       "  ----------------------------------------------------------------\n"
      ]
     },
     "metadata": {},
     "output_type": "display_data"
    },
    {
     "data": {
      "text/html": [
       "<pre style=\"white-space:pre;overflow-x:auto;line-height:normal;font-family:Menlo,'DejaVu Sans Mono',consolas,'Courier New',monospace\">     <span style=\"color: #008080; text-decoration-color: #008080; font-weight: bold\">1</span> |      <span style=\"color: #008080; text-decoration-color: #008080; font-weight: bold\">2</span> |      <span style=\"font-weight: bold\">(</span> |         push | <span style=\"font-weight: bold\">(</span>\n",
       "</pre>\n"
      ],
      "text/plain": [
       "     \u001b[1;36m1\u001b[0m |      \u001b[1;36m2\u001b[0m |      \u001b[1m(\u001b[0m |         push | \u001b[1m(\u001b[0m\n"
      ]
     },
     "metadata": {},
     "output_type": "display_data"
    },
    {
     "data": {
      "text/html": [
       "<pre style=\"white-space:pre;overflow-x:auto;line-height:normal;font-family:Menlo,'DejaVu Sans Mono',consolas,'Courier New',monospace\">     <span style=\"color: #008080; text-decoration-color: #008080; font-weight: bold\">2</span> |      <span style=\"color: #008080; text-decoration-color: #008080; font-weight: bold\">6</span> |      <span style=\"font-weight: bold\">)</span> |          pop | \n",
       "</pre>\n"
      ],
      "text/plain": [
       "     \u001b[1;36m2\u001b[0m |      \u001b[1;36m6\u001b[0m |      \u001b[1m)\u001b[0m |          pop | \n"
      ]
     },
     "metadata": {},
     "output_type": "display_data"
    },
    {
     "data": {
      "text/html": [
       "<pre style=\"white-space:pre;overflow-x:auto;line-height:normal;font-family:Menlo,'DejaVu Sans Mono',consolas,'Courier New',monospace\">     <span style=\"color: #008080; text-decoration-color: #008080; font-weight: bold\">3</span> |     <span style=\"color: #008080; text-decoration-color: #008080; font-weight: bold\">12</span> |      <span style=\"font-weight: bold\">[</span> |         push | <span style=\"font-weight: bold\">[</span>\n",
       "</pre>\n"
      ],
      "text/plain": [
       "     \u001b[1;36m3\u001b[0m |     \u001b[1;36m12\u001b[0m |      \u001b[1m[\u001b[0m |         push | \u001b[1m[\u001b[0m\n"
      ]
     },
     "metadata": {},
     "output_type": "display_data"
    },
    {
     "data": {
      "text/html": [
       "<pre style=\"white-space:pre;overflow-x:auto;line-height:normal;font-family:Menlo,'DejaVu Sans Mono',consolas,'Courier New',monospace\">     <span style=\"color: #008080; text-decoration-color: #008080; font-weight: bold\">4</span> |     <span style=\"color: #008080; text-decoration-color: #008080; font-weight: bold\">15</span> |      <span style=\"font-weight: bold\">]</span> |          pop | \n",
       "</pre>\n"
      ],
      "text/plain": [
       "     \u001b[1;36m4\u001b[0m |     \u001b[1;36m15\u001b[0m |      \u001b[1m]\u001b[0m |          pop | \n"
      ]
     },
     "metadata": {},
     "output_type": "display_data"
    },
    {
     "data": {
      "text/html": [
       "<pre style=\"white-space:pre;overflow-x:auto;line-height:normal;font-family:Menlo,'DejaVu Sans Mono',consolas,'Courier New',monospace\">     <span style=\"color: #008080; text-decoration-color: #008080; font-weight: bold\">5</span> |     <span style=\"color: #008080; text-decoration-color: #008080; font-weight: bold\">17</span> |      <span style=\"font-weight: bold\">]</span> |  pop <span style=\"font-weight: bold\">(</span>vacía<span style=\"font-weight: bold\">)</span> | \n",
       "</pre>\n"
      ],
      "text/plain": [
       "     \u001b[1;36m5\u001b[0m |     \u001b[1;36m17\u001b[0m |      \u001b[1m]\u001b[0m |  pop \u001b[1m(\u001b[0mvacía\u001b[1m)\u001b[0m | \n"
      ]
     },
     "metadata": {},
     "output_type": "display_data"
    },
    {
     "data": {
      "text/html": [
       "<pre style=\"white-space:pre;overflow-x:auto;line-height:normal;font-family:Menlo,'DejaVu Sans Mono',consolas,'Courier New',monospace\">\n",
       "<span style=\"color: #008080; text-decoration-color: #008080; font-weight: bold\">Línea </span><span style=\"color: #008080; text-decoration-color: #008080; font-weight: bold\">3</span><span style=\"color: #008080; text-decoration-color: #008080; font-weight: bold\">:</span> <span style=\"font-weight: bold\">(</span>𝑎 ∗ 𝑏 ∗ 𝑐 ∗ 𝑑 ∗ <span style=\"font-weight: bold\">(</span>𝑎|𝑒|𝑖|𝑜|𝑢<span style=\"font-weight: bold\">))</span>𝑒 ∗ 𝑓 ∗ 𝑔 ∗ ℎ<span style=\"font-weight: bold\">){</span><span style=\"color: #008080; text-decoration-color: #008080; font-weight: bold\">1</span>,<span style=\"color: #008080; text-decoration-color: #008080; font-weight: bold\">2</span><span style=\"font-weight: bold\">}</span>\n",
       "</pre>\n"
      ],
      "text/plain": [
       "\n",
       "\u001b[1;36mLínea \u001b[0m\u001b[1;36m3\u001b[0m\u001b[1;36m:\u001b[0m \u001b[1m(\u001b[0m𝑎 ∗ 𝑏 ∗ 𝑐 ∗ 𝑑 ∗ \u001b[1m(\u001b[0m𝑎|𝑒|𝑖|𝑜|𝑢\u001b[1m)\u001b[0m\u001b[1m)\u001b[0m𝑒 ∗ 𝑓 ∗ 𝑔 ∗ ℎ\u001b[1m)\u001b[0m\u001b[1m{\u001b[0m\u001b[1;36m1\u001b[0m,\u001b[1;36m2\u001b[0m\u001b[1m}\u001b[0m\n"
      ]
     },
     "metadata": {},
     "output_type": "display_data"
    },
    {
     "data": {
      "text/html": [
       "<pre style=\"white-space:pre;overflow-x:auto;line-height:normal;font-family:Menlo,'DejaVu Sans Mono',consolas,'Courier New',monospace\">Resultado: <span style=\"color: #800000; text-decoration-color: #800000\">✘ NO balanceada</span>\n",
       "</pre>\n"
      ],
      "text/plain": [
       "Resultado: \u001b[31m✘ NO balanceada\u001b[0m\n"
      ]
     },
     "metadata": {},
     "output_type": "display_data"
    },
    {
     "data": {
      "text/html": [
       "<pre style=\"white-space:pre;overflow-x:auto;line-height:normal;font-family:Menlo,'DejaVu Sans Mono',consolas,'Courier New',monospace\">Detalle: Error: se encontró <span style=\"color: #008000; text-decoration-color: #008000\">')'</span> en la posición <span style=\"color: #008080; text-decoration-color: #008080; font-weight: bold\">43</span> pero la pila estaba vacía.\n",
       "</pre>\n"
      ],
      "text/plain": [
       "Detalle: Error: se encontró \u001b[32m'\u001b[0m\u001b[32m)\u001b[0m\u001b[32m'\u001b[0m en la posición \u001b[1;36m43\u001b[0m pero la pila estaba vacía.\n"
      ]
     },
     "metadata": {},
     "output_type": "display_data"
    },
    {
     "data": {
      "text/html": [
       "<pre style=\"white-space:pre;overflow-x:auto;line-height:normal;font-family:Menlo,'DejaVu Sans Mono',consolas,'Courier New',monospace\">\n",
       "  <span style=\"font-weight: bold\">Pasos de la pila:</span>\n",
       "</pre>\n"
      ],
      "text/plain": [
       "\n",
       "  \u001b[1mPasos de la pila:\u001b[0m\n"
      ]
     },
     "metadata": {},
     "output_type": "display_data"
    },
    {
     "data": {
      "text/html": [
       "<pre style=\"white-space:pre;overflow-x:auto;line-height:normal;font-family:Menlo,'DejaVu Sans Mono',consolas,'Courier New',monospace\">  Paso |    Pos |   Char |       Acción | Pila después\n",
       "</pre>\n"
      ],
      "text/plain": [
       "  Paso |    Pos |   Char |       Acción | Pila después\n"
      ]
     },
     "metadata": {},
     "output_type": "display_data"
    },
    {
     "data": {
      "text/html": [
       "<pre style=\"white-space:pre;overflow-x:auto;line-height:normal;font-family:Menlo,'DejaVu Sans Mono',consolas,'Courier New',monospace\">  ----------------------------------------------------------------\n",
       "</pre>\n"
      ],
      "text/plain": [
       "  ----------------------------------------------------------------\n"
      ]
     },
     "metadata": {},
     "output_type": "display_data"
    },
    {
     "data": {
      "text/html": [
       "<pre style=\"white-space:pre;overflow-x:auto;line-height:normal;font-family:Menlo,'DejaVu Sans Mono',consolas,'Courier New',monospace\">     <span style=\"color: #008080; text-decoration-color: #008080; font-weight: bold\">1</span> |      <span style=\"color: #008080; text-decoration-color: #008080; font-weight: bold\">1</span> |      <span style=\"font-weight: bold\">(</span> |         push | <span style=\"font-weight: bold\">(</span>\n",
       "</pre>\n"
      ],
      "text/plain": [
       "     \u001b[1;36m1\u001b[0m |      \u001b[1;36m1\u001b[0m |      \u001b[1m(\u001b[0m |         push | \u001b[1m(\u001b[0m\n"
      ]
     },
     "metadata": {},
     "output_type": "display_data"
    },
    {
     "data": {
      "text/html": [
       "<pre style=\"white-space:pre;overflow-x:auto;line-height:normal;font-family:Menlo,'DejaVu Sans Mono',consolas,'Courier New',monospace\">     <span style=\"color: #008080; text-decoration-color: #008080; font-weight: bold\">2</span> |     <span style=\"color: #008080; text-decoration-color: #008080; font-weight: bold\">18</span> |      <span style=\"font-weight: bold\">(</span> |         push | <span style=\"font-weight: bold\">((</span>\n",
       "</pre>\n"
      ],
      "text/plain": [
       "     \u001b[1;36m2\u001b[0m |     \u001b[1;36m18\u001b[0m |      \u001b[1m(\u001b[0m |         push | \u001b[1m(\u001b[0m\u001b[1m(\u001b[0m\n"
      ]
     },
     "metadata": {},
     "output_type": "display_data"
    },
    {
     "data": {
      "text/html": [
       "<pre style=\"white-space:pre;overflow-x:auto;line-height:normal;font-family:Menlo,'DejaVu Sans Mono',consolas,'Courier New',monospace\">     <span style=\"color: #008080; text-decoration-color: #008080; font-weight: bold\">3</span> |     <span style=\"color: #008080; text-decoration-color: #008080; font-weight: bold\">28</span> |      <span style=\"font-weight: bold\">)</span> |          pop | <span style=\"font-weight: bold\">(</span>\n",
       "</pre>\n"
      ],
      "text/plain": [
       "     \u001b[1;36m3\u001b[0m |     \u001b[1;36m28\u001b[0m |      \u001b[1m)\u001b[0m |          pop | \u001b[1m(\u001b[0m\n"
      ]
     },
     "metadata": {},
     "output_type": "display_data"
    },
    {
     "data": {
      "text/html": [
       "<pre style=\"white-space:pre;overflow-x:auto;line-height:normal;font-family:Menlo,'DejaVu Sans Mono',consolas,'Courier New',monospace\">     <span style=\"color: #008080; text-decoration-color: #008080; font-weight: bold\">4</span> |     <span style=\"color: #008080; text-decoration-color: #008080; font-weight: bold\">29</span> |      <span style=\"font-weight: bold\">)</span> |          pop | \n",
       "</pre>\n"
      ],
      "text/plain": [
       "     \u001b[1;36m4\u001b[0m |     \u001b[1;36m29\u001b[0m |      \u001b[1m)\u001b[0m |          pop | \n"
      ]
     },
     "metadata": {},
     "output_type": "display_data"
    },
    {
     "data": {
      "text/html": [
       "<pre style=\"white-space:pre;overflow-x:auto;line-height:normal;font-family:Menlo,'DejaVu Sans Mono',consolas,'Courier New',monospace\">     <span style=\"color: #008080; text-decoration-color: #008080; font-weight: bold\">5</span> |     <span style=\"color: #008080; text-decoration-color: #008080; font-weight: bold\">43</span> |      <span style=\"font-weight: bold\">)</span> |  pop <span style=\"font-weight: bold\">(</span>vacía<span style=\"font-weight: bold\">)</span> | \n",
       "</pre>\n"
      ],
      "text/plain": [
       "     \u001b[1;36m5\u001b[0m |     \u001b[1;36m43\u001b[0m |      \u001b[1m)\u001b[0m |  pop \u001b[1m(\u001b[0mvacía\u001b[1m)\u001b[0m | \n"
      ]
     },
     "metadata": {},
     "output_type": "display_data"
    },
    {
     "data": {
      "text/html": [
       "<pre style=\"white-space:pre;overflow-x:auto;line-height:normal;font-family:Menlo,'DejaVu Sans Mono',consolas,'Courier New',monospace\">\n",
       "<span style=\"color: #008080; text-decoration-color: #008080; font-weight: bold\">Línea </span><span style=\"color: #008080; text-decoration-color: #008080; font-weight: bold\">4</span><span style=\"color: #008080; text-decoration-color: #008080; font-weight: bold\">:</span> ^<span style=\"font-weight: bold\">[</span>𝑎𝑍<span style=\"font-weight: bold\">]</span>. 𝑐𝑜𝑚<span style=\"font-weight: bold\">{</span><span style=\"color: #008080; text-decoration-color: #008080; font-weight: bold\">5</span>,<span style=\"color: #008080; text-decoration-color: #008080; font-weight: bold\">30</span><span style=\"font-weight: bold\">}</span>\n",
       "</pre>\n"
      ],
      "text/plain": [
       "\n",
       "\u001b[1;36mLínea \u001b[0m\u001b[1;36m4\u001b[0m\u001b[1;36m:\u001b[0m ^\u001b[1m[\u001b[0m𝑎𝑍\u001b[1m]\u001b[0m. 𝑐𝑜𝑚\u001b[1m{\u001b[0m\u001b[1;36m5\u001b[0m,\u001b[1;36m30\u001b[0m\u001b[1m}\u001b[0m\n"
      ]
     },
     "metadata": {},
     "output_type": "display_data"
    },
    {
     "data": {
      "text/html": [
       "<pre style=\"white-space:pre;overflow-x:auto;line-height:normal;font-family:Menlo,'DejaVu Sans Mono',consolas,'Courier New',monospace\">Resultado: <span style=\"color: #008000; text-decoration-color: #008000\">✔ Balanceada</span>\n",
       "</pre>\n"
      ],
      "text/plain": [
       "Resultado: \u001b[32m✔ Balanceada\u001b[0m\n"
      ]
     },
     "metadata": {},
     "output_type": "display_data"
    },
    {
     "data": {
      "text/html": [
       "<pre style=\"white-space:pre;overflow-x:auto;line-height:normal;font-family:Menlo,'DejaVu Sans Mono',consolas,'Courier New',monospace\">Detalle: Expresión balanceada.\n",
       "</pre>\n"
      ],
      "text/plain": [
       "Detalle: Expresión balanceada.\n"
      ]
     },
     "metadata": {},
     "output_type": "display_data"
    },
    {
     "data": {
      "text/html": [
       "<pre style=\"white-space:pre;overflow-x:auto;line-height:normal;font-family:Menlo,'DejaVu Sans Mono',consolas,'Courier New',monospace\">\n",
       "  <span style=\"font-weight: bold\">Pasos de la pila:</span>\n",
       "</pre>\n"
      ],
      "text/plain": [
       "\n",
       "  \u001b[1mPasos de la pila:\u001b[0m\n"
      ]
     },
     "metadata": {},
     "output_type": "display_data"
    },
    {
     "data": {
      "text/html": [
       "<pre style=\"white-space:pre;overflow-x:auto;line-height:normal;font-family:Menlo,'DejaVu Sans Mono',consolas,'Courier New',monospace\">  Paso |    Pos |   Char |       Acción | Pila después\n",
       "</pre>\n"
      ],
      "text/plain": [
       "  Paso |    Pos |   Char |       Acción | Pila después\n"
      ]
     },
     "metadata": {},
     "output_type": "display_data"
    },
    {
     "data": {
      "text/html": [
       "<pre style=\"white-space:pre;overflow-x:auto;line-height:normal;font-family:Menlo,'DejaVu Sans Mono',consolas,'Courier New',monospace\">  ----------------------------------------------------------------\n",
       "</pre>\n"
      ],
      "text/plain": [
       "  ----------------------------------------------------------------\n"
      ]
     },
     "metadata": {},
     "output_type": "display_data"
    },
    {
     "data": {
      "text/html": [
       "<pre style=\"white-space:pre;overflow-x:auto;line-height:normal;font-family:Menlo,'DejaVu Sans Mono',consolas,'Courier New',monospace\">     <span style=\"color: #008080; text-decoration-color: #008080; font-weight: bold\">1</span> |      <span style=\"color: #008080; text-decoration-color: #008080; font-weight: bold\">2</span> |      <span style=\"font-weight: bold\">[</span> |         push | <span style=\"font-weight: bold\">[</span>\n",
       "</pre>\n"
      ],
      "text/plain": [
       "     \u001b[1;36m1\u001b[0m |      \u001b[1;36m2\u001b[0m |      \u001b[1m[\u001b[0m |         push | \u001b[1m[\u001b[0m\n"
      ]
     },
     "metadata": {},
     "output_type": "display_data"
    },
    {
     "data": {
      "text/html": [
       "<pre style=\"white-space:pre;overflow-x:auto;line-height:normal;font-family:Menlo,'DejaVu Sans Mono',consolas,'Courier New',monospace\">     <span style=\"color: #008080; text-decoration-color: #008080; font-weight: bold\">2</span> |      <span style=\"color: #008080; text-decoration-color: #008080; font-weight: bold\">5</span> |      <span style=\"font-weight: bold\">]</span> |          pop | \n",
       "</pre>\n"
      ],
      "text/plain": [
       "     \u001b[1;36m2\u001b[0m |      \u001b[1;36m5\u001b[0m |      \u001b[1m]\u001b[0m |          pop | \n"
      ]
     },
     "metadata": {},
     "output_type": "display_data"
    },
    {
     "data": {
      "text/html": [
       "<pre style=\"white-space:pre;overflow-x:auto;line-height:normal;font-family:Menlo,'DejaVu Sans Mono',consolas,'Courier New',monospace\">     <span style=\"color: #008080; text-decoration-color: #008080; font-weight: bold\">3</span> |     <span style=\"color: #008080; text-decoration-color: #008080; font-weight: bold\">11</span> |      <span style=\"font-weight: bold\">{</span> |         push | <span style=\"font-weight: bold\">{</span>\n",
       "</pre>\n"
      ],
      "text/plain": [
       "     \u001b[1;36m3\u001b[0m |     \u001b[1;36m11\u001b[0m |      \u001b[1m{\u001b[0m |         push | \u001b[1m{\u001b[0m\n"
      ]
     },
     "metadata": {},
     "output_type": "display_data"
    },
    {
     "data": {
      "text/html": [
       "<pre style=\"white-space:pre;overflow-x:auto;line-height:normal;font-family:Menlo,'DejaVu Sans Mono',consolas,'Courier New',monospace\">     <span style=\"color: #008080; text-decoration-color: #008080; font-weight: bold\">4</span> |     <span style=\"color: #008080; text-decoration-color: #008080; font-weight: bold\">16</span> |      <span style=\"font-weight: bold\">}</span> |          pop | \n",
       "</pre>\n"
      ],
      "text/plain": [
       "     \u001b[1;36m4\u001b[0m |     \u001b[1;36m16\u001b[0m |      \u001b[1m}\u001b[0m |          pop | \n"
      ]
     },
     "metadata": {},
     "output_type": "display_data"
    },
    {
     "data": {
      "text/html": [
       "<pre style=\"white-space:pre;overflow-x:auto;line-height:normal;font-family:Menlo,'DejaVu Sans Mono',consolas,'Courier New',monospace\">\n",
       "<span style=\"color: #008080; text-decoration-color: #008080; font-weight: bold\">Línea </span><span style=\"color: #008080; text-decoration-color: #008080; font-weight: bold\">5</span><span style=\"color: #008080; text-decoration-color: #008080; font-weight: bold\">:</span> <span style=\"font-weight: bold\">([[</span>𝑎𝑧<span style=\"font-weight: bold\">][</span>𝐴𝑍<span style=\"font-weight: bold\">]](((((</span>. |; <span style=\"font-weight: bold\">)</span>|; <span style=\"font-weight: bold\">)</span>|. <span style=\"font-weight: bold\">)</span>|. <span style=\"font-weight: bold\">)</span>|. <span style=\"font-weight: bold\">){</span><span style=\"color: #008080; text-decoration-color: #008080; font-weight: bold\">10</span>,<span style=\"color: #008080; text-decoration-color: #008080; font-weight: bold\">20</span><span style=\"font-weight: bold\">})</span> ∗<span style=\"font-weight: bold\">)</span> +\n",
       "</pre>\n"
      ],
      "text/plain": [
       "\n",
       "\u001b[1;36mLínea \u001b[0m\u001b[1;36m5\u001b[0m\u001b[1;36m:\u001b[0m \u001b[1m(\u001b[0m\u001b[1m[\u001b[0m\u001b[1m[\u001b[0m𝑎𝑧\u001b[1m]\u001b[0m\u001b[1m[\u001b[0m𝐴𝑍\u001b[1m]\u001b[0m\u001b[1m]\u001b[0m\u001b[1m(\u001b[0m\u001b[1m(\u001b[0m\u001b[1m(\u001b[0m\u001b[1m(\u001b[0m\u001b[1m(\u001b[0m. |; \u001b[1m)\u001b[0m|; \u001b[1m)\u001b[0m|. \u001b[1m)\u001b[0m|. \u001b[1m)\u001b[0m|. \u001b[1m)\u001b[0m\u001b[1m{\u001b[0m\u001b[1;36m10\u001b[0m,\u001b[1;36m20\u001b[0m\u001b[1m}\u001b[0m\u001b[1m)\u001b[0m ∗\u001b[1m)\u001b[0m +\n"
      ]
     },
     "metadata": {},
     "output_type": "display_data"
    },
    {
     "data": {
      "text/html": [
       "<pre style=\"white-space:pre;overflow-x:auto;line-height:normal;font-family:Menlo,'DejaVu Sans Mono',consolas,'Courier New',monospace\">Resultado: <span style=\"color: #800000; text-decoration-color: #800000\">✘ NO balanceada</span>\n",
       "</pre>\n"
      ],
      "text/plain": [
       "Resultado: \u001b[31m✘ NO balanceada\u001b[0m\n"
      ]
     },
     "metadata": {},
     "output_type": "display_data"
    },
    {
     "data": {
      "text/html": [
       "<pre style=\"white-space:pre;overflow-x:auto;line-height:normal;font-family:Menlo,'DejaVu Sans Mono',consolas,'Courier New',monospace\">Detalle: Error: se encontró <span style=\"color: #008000; text-decoration-color: #008000\">')'</span> en la posición <span style=\"color: #008080; text-decoration-color: #008080; font-weight: bold\">49</span> pero la pila estaba vacía.\n",
       "</pre>\n"
      ],
      "text/plain": [
       "Detalle: Error: se encontró \u001b[32m'\u001b[0m\u001b[32m)\u001b[0m\u001b[32m'\u001b[0m en la posición \u001b[1;36m49\u001b[0m pero la pila estaba vacía.\n"
      ]
     },
     "metadata": {},
     "output_type": "display_data"
    },
    {
     "data": {
      "text/html": [
       "<pre style=\"white-space:pre;overflow-x:auto;line-height:normal;font-family:Menlo,'DejaVu Sans Mono',consolas,'Courier New',monospace\">\n",
       "  <span style=\"font-weight: bold\">Pasos de la pila:</span>\n",
       "</pre>\n"
      ],
      "text/plain": [
       "\n",
       "  \u001b[1mPasos de la pila:\u001b[0m\n"
      ]
     },
     "metadata": {},
     "output_type": "display_data"
    },
    {
     "data": {
      "text/html": [
       "<pre style=\"white-space:pre;overflow-x:auto;line-height:normal;font-family:Menlo,'DejaVu Sans Mono',consolas,'Courier New',monospace\">  Paso |    Pos |   Char |       Acción | Pila después\n",
       "</pre>\n"
      ],
      "text/plain": [
       "  Paso |    Pos |   Char |       Acción | Pila después\n"
      ]
     },
     "metadata": {},
     "output_type": "display_data"
    },
    {
     "data": {
      "text/html": [
       "<pre style=\"white-space:pre;overflow-x:auto;line-height:normal;font-family:Menlo,'DejaVu Sans Mono',consolas,'Courier New',monospace\">  ----------------------------------------------------------------\n",
       "</pre>\n"
      ],
      "text/plain": [
       "  ----------------------------------------------------------------\n"
      ]
     },
     "metadata": {},
     "output_type": "display_data"
    },
    {
     "data": {
      "text/html": [
       "<pre style=\"white-space:pre;overflow-x:auto;line-height:normal;font-family:Menlo,'DejaVu Sans Mono',consolas,'Courier New',monospace\">     <span style=\"color: #008080; text-decoration-color: #008080; font-weight: bold\">1</span> |      <span style=\"color: #008080; text-decoration-color: #008080; font-weight: bold\">1</span> |      <span style=\"font-weight: bold\">(</span> |         push | <span style=\"font-weight: bold\">(</span>\n",
       "</pre>\n"
      ],
      "text/plain": [
       "     \u001b[1;36m1\u001b[0m |      \u001b[1;36m1\u001b[0m |      \u001b[1m(\u001b[0m |         push | \u001b[1m(\u001b[0m\n"
      ]
     },
     "metadata": {},
     "output_type": "display_data"
    },
    {
     "data": {
      "text/html": [
       "<pre style=\"white-space:pre;overflow-x:auto;line-height:normal;font-family:Menlo,'DejaVu Sans Mono',consolas,'Courier New',monospace\">     <span style=\"color: #008080; text-decoration-color: #008080; font-weight: bold\">2</span> |      <span style=\"color: #008080; text-decoration-color: #008080; font-weight: bold\">2</span> |      <span style=\"font-weight: bold\">[</span> |         push | <span style=\"font-weight: bold\">([</span>\n",
       "</pre>\n"
      ],
      "text/plain": [
       "     \u001b[1;36m2\u001b[0m |      \u001b[1;36m2\u001b[0m |      \u001b[1m[\u001b[0m |         push | \u001b[1m(\u001b[0m\u001b[1m[\u001b[0m\n"
      ]
     },
     "metadata": {},
     "output_type": "display_data"
    },
    {
     "data": {
      "text/html": [
       "<pre style=\"white-space:pre;overflow-x:auto;line-height:normal;font-family:Menlo,'DejaVu Sans Mono',consolas,'Courier New',monospace\">     <span style=\"color: #008080; text-decoration-color: #008080; font-weight: bold\">3</span> |      <span style=\"color: #008080; text-decoration-color: #008080; font-weight: bold\">3</span> |      <span style=\"font-weight: bold\">[</span> |         push | <span style=\"font-weight: bold\">([[</span>\n",
       "</pre>\n"
      ],
      "text/plain": [
       "     \u001b[1;36m3\u001b[0m |      \u001b[1;36m3\u001b[0m |      \u001b[1m[\u001b[0m |         push | \u001b[1m(\u001b[0m\u001b[1m[\u001b[0m\u001b[1m[\u001b[0m\n"
      ]
     },
     "metadata": {},
     "output_type": "display_data"
    },
    {
     "data": {
      "text/html": [
       "<pre style=\"white-space:pre;overflow-x:auto;line-height:normal;font-family:Menlo,'DejaVu Sans Mono',consolas,'Courier New',monospace\">     <span style=\"color: #008080; text-decoration-color: #008080; font-weight: bold\">4</span> |      <span style=\"color: #008080; text-decoration-color: #008080; font-weight: bold\">6</span> |      <span style=\"font-weight: bold\">]</span> |          pop | <span style=\"font-weight: bold\">([</span>\n",
       "</pre>\n"
      ],
      "text/plain": [
       "     \u001b[1;36m4\u001b[0m |      \u001b[1;36m6\u001b[0m |      \u001b[1m]\u001b[0m |          pop | \u001b[1m(\u001b[0m\u001b[1m[\u001b[0m\n"
      ]
     },
     "metadata": {},
     "output_type": "display_data"
    },
    {
     "data": {
      "text/html": [
       "<pre style=\"white-space:pre;overflow-x:auto;line-height:normal;font-family:Menlo,'DejaVu Sans Mono',consolas,'Courier New',monospace\">     <span style=\"color: #008080; text-decoration-color: #008080; font-weight: bold\">5</span> |      <span style=\"color: #008080; text-decoration-color: #008080; font-weight: bold\">7</span> |      <span style=\"font-weight: bold\">[</span> |         push | <span style=\"font-weight: bold\">([[</span>\n",
       "</pre>\n"
      ],
      "text/plain": [
       "     \u001b[1;36m5\u001b[0m |      \u001b[1;36m7\u001b[0m |      \u001b[1m[\u001b[0m |         push | \u001b[1m(\u001b[0m\u001b[1m[\u001b[0m\u001b[1m[\u001b[0m\n"
      ]
     },
     "metadata": {},
     "output_type": "display_data"
    },
    {
     "data": {
      "text/html": [
       "<pre style=\"white-space:pre;overflow-x:auto;line-height:normal;font-family:Menlo,'DejaVu Sans Mono',consolas,'Courier New',monospace\">     <span style=\"color: #008080; text-decoration-color: #008080; font-weight: bold\">6</span> |     <span style=\"color: #008080; text-decoration-color: #008080; font-weight: bold\">10</span> |      <span style=\"font-weight: bold\">]</span> |          pop | <span style=\"font-weight: bold\">([</span>\n",
       "</pre>\n"
      ],
      "text/plain": [
       "     \u001b[1;36m6\u001b[0m |     \u001b[1;36m10\u001b[0m |      \u001b[1m]\u001b[0m |          pop | \u001b[1m(\u001b[0m\u001b[1m[\u001b[0m\n"
      ]
     },
     "metadata": {},
     "output_type": "display_data"
    },
    {
     "data": {
      "text/html": [
       "<pre style=\"white-space:pre;overflow-x:auto;line-height:normal;font-family:Menlo,'DejaVu Sans Mono',consolas,'Courier New',monospace\">     <span style=\"color: #008080; text-decoration-color: #008080; font-weight: bold\">7</span> |     <span style=\"color: #008080; text-decoration-color: #008080; font-weight: bold\">11</span> |      <span style=\"font-weight: bold\">]</span> |          pop | <span style=\"font-weight: bold\">(</span>\n",
       "</pre>\n"
      ],
      "text/plain": [
       "     \u001b[1;36m7\u001b[0m |     \u001b[1;36m11\u001b[0m |      \u001b[1m]\u001b[0m |          pop | \u001b[1m(\u001b[0m\n"
      ]
     },
     "metadata": {},
     "output_type": "display_data"
    },
    {
     "data": {
      "text/html": [
       "<pre style=\"white-space:pre;overflow-x:auto;line-height:normal;font-family:Menlo,'DejaVu Sans Mono',consolas,'Courier New',monospace\">     <span style=\"color: #008080; text-decoration-color: #008080; font-weight: bold\">8</span> |     <span style=\"color: #008080; text-decoration-color: #008080; font-weight: bold\">12</span> |      <span style=\"font-weight: bold\">(</span> |         push | <span style=\"font-weight: bold\">((</span>\n",
       "</pre>\n"
      ],
      "text/plain": [
       "     \u001b[1;36m8\u001b[0m |     \u001b[1;36m12\u001b[0m |      \u001b[1m(\u001b[0m |         push | \u001b[1m(\u001b[0m\u001b[1m(\u001b[0m\n"
      ]
     },
     "metadata": {},
     "output_type": "display_data"
    },
    {
     "data": {
      "text/html": [
       "<pre style=\"white-space:pre;overflow-x:auto;line-height:normal;font-family:Menlo,'DejaVu Sans Mono',consolas,'Courier New',monospace\">     <span style=\"color: #008080; text-decoration-color: #008080; font-weight: bold\">9</span> |     <span style=\"color: #008080; text-decoration-color: #008080; font-weight: bold\">13</span> |      <span style=\"font-weight: bold\">(</span> |         push | <span style=\"font-weight: bold\">(((</span>\n",
       "</pre>\n"
      ],
      "text/plain": [
       "     \u001b[1;36m9\u001b[0m |     \u001b[1;36m13\u001b[0m |      \u001b[1m(\u001b[0m |         push | \u001b[1m(\u001b[0m\u001b[1m(\u001b[0m\u001b[1m(\u001b[0m\n"
      ]
     },
     "metadata": {},
     "output_type": "display_data"
    },
    {
     "data": {
      "text/html": [
       "<pre style=\"white-space:pre;overflow-x:auto;line-height:normal;font-family:Menlo,'DejaVu Sans Mono',consolas,'Courier New',monospace\">    <span style=\"color: #008080; text-decoration-color: #008080; font-weight: bold\">10</span> |     <span style=\"color: #008080; text-decoration-color: #008080; font-weight: bold\">14</span> |      <span style=\"font-weight: bold\">(</span> |         push | <span style=\"font-weight: bold\">((((</span>\n",
       "</pre>\n"
      ],
      "text/plain": [
       "    \u001b[1;36m10\u001b[0m |     \u001b[1;36m14\u001b[0m |      \u001b[1m(\u001b[0m |         push | \u001b[1m(\u001b[0m\u001b[1m(\u001b[0m\u001b[1m(\u001b[0m\u001b[1m(\u001b[0m\n"
      ]
     },
     "metadata": {},
     "output_type": "display_data"
    },
    {
     "data": {
      "text/html": [
       "<pre style=\"white-space:pre;overflow-x:auto;line-height:normal;font-family:Menlo,'DejaVu Sans Mono',consolas,'Courier New',monospace\">    <span style=\"color: #008080; text-decoration-color: #008080; font-weight: bold\">11</span> |     <span style=\"color: #008080; text-decoration-color: #008080; font-weight: bold\">15</span> |      <span style=\"font-weight: bold\">(</span> |         push | <span style=\"font-weight: bold\">(((((</span>\n",
       "</pre>\n"
      ],
      "text/plain": [
       "    \u001b[1;36m11\u001b[0m |     \u001b[1;36m15\u001b[0m |      \u001b[1m(\u001b[0m |         push | \u001b[1m(\u001b[0m\u001b[1m(\u001b[0m\u001b[1m(\u001b[0m\u001b[1m(\u001b[0m\u001b[1m(\u001b[0m\n"
      ]
     },
     "metadata": {},
     "output_type": "display_data"
    },
    {
     "data": {
      "text/html": [
       "<pre style=\"white-space:pre;overflow-x:auto;line-height:normal;font-family:Menlo,'DejaVu Sans Mono',consolas,'Courier New',monospace\">    <span style=\"color: #008080; text-decoration-color: #008080; font-weight: bold\">12</span> |     <span style=\"color: #008080; text-decoration-color: #008080; font-weight: bold\">16</span> |      <span style=\"font-weight: bold\">(</span> |         push | <span style=\"font-weight: bold\">((((((</span>\n",
       "</pre>\n"
      ],
      "text/plain": [
       "    \u001b[1;36m12\u001b[0m |     \u001b[1;36m16\u001b[0m |      \u001b[1m(\u001b[0m |         push | \u001b[1m(\u001b[0m\u001b[1m(\u001b[0m\u001b[1m(\u001b[0m\u001b[1m(\u001b[0m\u001b[1m(\u001b[0m\u001b[1m(\u001b[0m\n"
      ]
     },
     "metadata": {},
     "output_type": "display_data"
    },
    {
     "data": {
      "text/html": [
       "<pre style=\"white-space:pre;overflow-x:auto;line-height:normal;font-family:Menlo,'DejaVu Sans Mono',consolas,'Courier New',monospace\">    <span style=\"color: #008080; text-decoration-color: #008080; font-weight: bold\">13</span> |     <span style=\"color: #008080; text-decoration-color: #008080; font-weight: bold\">22</span> |      <span style=\"font-weight: bold\">)</span> |          pop | <span style=\"font-weight: bold\">(((((</span>\n",
       "</pre>\n"
      ],
      "text/plain": [
       "    \u001b[1;36m13\u001b[0m |     \u001b[1;36m22\u001b[0m |      \u001b[1m)\u001b[0m |          pop | \u001b[1m(\u001b[0m\u001b[1m(\u001b[0m\u001b[1m(\u001b[0m\u001b[1m(\u001b[0m\u001b[1m(\u001b[0m\n"
      ]
     },
     "metadata": {},
     "output_type": "display_data"
    },
    {
     "data": {
      "text/html": [
       "<pre style=\"white-space:pre;overflow-x:auto;line-height:normal;font-family:Menlo,'DejaVu Sans Mono',consolas,'Courier New',monospace\">    <span style=\"color: #008080; text-decoration-color: #008080; font-weight: bold\">14</span> |     <span style=\"color: #008080; text-decoration-color: #008080; font-weight: bold\">26</span> |      <span style=\"font-weight: bold\">)</span> |          pop | <span style=\"font-weight: bold\">((((</span>\n",
       "</pre>\n"
      ],
      "text/plain": [
       "    \u001b[1;36m14\u001b[0m |     \u001b[1;36m26\u001b[0m |      \u001b[1m)\u001b[0m |          pop | \u001b[1m(\u001b[0m\u001b[1m(\u001b[0m\u001b[1m(\u001b[0m\u001b[1m(\u001b[0m\n"
      ]
     },
     "metadata": {},
     "output_type": "display_data"
    },
    {
     "data": {
      "text/html": [
       "<pre style=\"white-space:pre;overflow-x:auto;line-height:normal;font-family:Menlo,'DejaVu Sans Mono',consolas,'Courier New',monospace\">    <span style=\"color: #008080; text-decoration-color: #008080; font-weight: bold\">15</span> |     <span style=\"color: #008080; text-decoration-color: #008080; font-weight: bold\">30</span> |      <span style=\"font-weight: bold\">)</span> |          pop | <span style=\"font-weight: bold\">(((</span>\n",
       "</pre>\n"
      ],
      "text/plain": [
       "    \u001b[1;36m15\u001b[0m |     \u001b[1;36m30\u001b[0m |      \u001b[1m)\u001b[0m |          pop | \u001b[1m(\u001b[0m\u001b[1m(\u001b[0m\u001b[1m(\u001b[0m\n"
      ]
     },
     "metadata": {},
     "output_type": "display_data"
    },
    {
     "data": {
      "text/html": [
       "<pre style=\"white-space:pre;overflow-x:auto;line-height:normal;font-family:Menlo,'DejaVu Sans Mono',consolas,'Courier New',monospace\">    <span style=\"color: #008080; text-decoration-color: #008080; font-weight: bold\">16</span> |     <span style=\"color: #008080; text-decoration-color: #008080; font-weight: bold\">34</span> |      <span style=\"font-weight: bold\">)</span> |          pop | <span style=\"font-weight: bold\">((</span>\n",
       "</pre>\n"
      ],
      "text/plain": [
       "    \u001b[1;36m16\u001b[0m |     \u001b[1;36m34\u001b[0m |      \u001b[1m)\u001b[0m |          pop | \u001b[1m(\u001b[0m\u001b[1m(\u001b[0m\n"
      ]
     },
     "metadata": {},
     "output_type": "display_data"
    },
    {
     "data": {
      "text/html": [
       "<pre style=\"white-space:pre;overflow-x:auto;line-height:normal;font-family:Menlo,'DejaVu Sans Mono',consolas,'Courier New',monospace\">    <span style=\"color: #008080; text-decoration-color: #008080; font-weight: bold\">17</span> |     <span style=\"color: #008080; text-decoration-color: #008080; font-weight: bold\">38</span> |      <span style=\"font-weight: bold\">)</span> |          pop | <span style=\"font-weight: bold\">(</span>\n",
       "</pre>\n"
      ],
      "text/plain": [
       "    \u001b[1;36m17\u001b[0m |     \u001b[1;36m38\u001b[0m |      \u001b[1m)\u001b[0m |          pop | \u001b[1m(\u001b[0m\n"
      ]
     },
     "metadata": {},
     "output_type": "display_data"
    },
    {
     "data": {
      "text/html": [
       "<pre style=\"white-space:pre;overflow-x:auto;line-height:normal;font-family:Menlo,'DejaVu Sans Mono',consolas,'Courier New',monospace\">    <span style=\"color: #008080; text-decoration-color: #008080; font-weight: bold\">18</span> |     <span style=\"color: #008080; text-decoration-color: #008080; font-weight: bold\">39</span> |      <span style=\"font-weight: bold\">{</span> |         push | <span style=\"font-weight: bold\">({</span>\n",
       "</pre>\n"
      ],
      "text/plain": [
       "    \u001b[1;36m18\u001b[0m |     \u001b[1;36m39\u001b[0m |      \u001b[1m{\u001b[0m |         push | \u001b[1m(\u001b[0m\u001b[1m{\u001b[0m\n"
      ]
     },
     "metadata": {},
     "output_type": "display_data"
    },
    {
     "data": {
      "text/html": [
       "<pre style=\"white-space:pre;overflow-x:auto;line-height:normal;font-family:Menlo,'DejaVu Sans Mono',consolas,'Courier New',monospace\">    <span style=\"color: #008080; text-decoration-color: #008080; font-weight: bold\">19</span> |     <span style=\"color: #008080; text-decoration-color: #008080; font-weight: bold\">45</span> |      <span style=\"font-weight: bold\">}</span> |          pop | <span style=\"font-weight: bold\">(</span>\n",
       "</pre>\n"
      ],
      "text/plain": [
       "    \u001b[1;36m19\u001b[0m |     \u001b[1;36m45\u001b[0m |      \u001b[1m}\u001b[0m |          pop | \u001b[1m(\u001b[0m\n"
      ]
     },
     "metadata": {},
     "output_type": "display_data"
    },
    {
     "data": {
      "text/html": [
       "<pre style=\"white-space:pre;overflow-x:auto;line-height:normal;font-family:Menlo,'DejaVu Sans Mono',consolas,'Courier New',monospace\">    <span style=\"color: #008080; text-decoration-color: #008080; font-weight: bold\">20</span> |     <span style=\"color: #008080; text-decoration-color: #008080; font-weight: bold\">46</span> |      <span style=\"font-weight: bold\">)</span> |          pop | \n",
       "</pre>\n"
      ],
      "text/plain": [
       "    \u001b[1;36m20\u001b[0m |     \u001b[1;36m46\u001b[0m |      \u001b[1m)\u001b[0m |          pop | \n"
      ]
     },
     "metadata": {},
     "output_type": "display_data"
    },
    {
     "data": {
      "text/html": [
       "<pre style=\"white-space:pre;overflow-x:auto;line-height:normal;font-family:Menlo,'DejaVu Sans Mono',consolas,'Courier New',monospace\">    <span style=\"color: #008080; text-decoration-color: #008080; font-weight: bold\">21</span> |     <span style=\"color: #008080; text-decoration-color: #008080; font-weight: bold\">49</span> |      <span style=\"font-weight: bold\">)</span> |  pop <span style=\"font-weight: bold\">(</span>vacía<span style=\"font-weight: bold\">)</span> | \n",
       "</pre>\n"
      ],
      "text/plain": [
       "    \u001b[1;36m21\u001b[0m |     \u001b[1;36m49\u001b[0m |      \u001b[1m)\u001b[0m |  pop \u001b[1m(\u001b[0mvacía\u001b[1m)\u001b[0m | \n"
      ]
     },
     "metadata": {},
     "output_type": "display_data"
    },
    {
     "data": {
      "text/html": [
       "<pre style=\"white-space:pre;overflow-x:auto;line-height:normal;font-family:Menlo,'DejaVu Sans Mono',consolas,'Courier New',monospace\">\n",
       "========================================================================\n",
       "</pre>\n"
      ],
      "text/plain": [
       "\n",
       "========================================================================\n"
      ]
     },
     "metadata": {},
     "output_type": "display_data"
    },
    {
     "data": {
      "text/html": [
       "<pre style=\"white-space:pre;overflow-x:auto;line-height:normal;font-family:Menlo,'DejaVu Sans Mono',consolas,'Courier New',monospace\"><span style=\"color: #800080; text-decoration-color: #800080; font-weight: bold\">RESUMEN</span>\n",
       "</pre>\n"
      ],
      "text/plain": [
       "\u001b[1;35mRESUMEN\u001b[0m\n"
      ]
     },
     "metadata": {},
     "output_type": "display_data"
    },
    {
     "data": {
      "text/html": [
       "<pre style=\"white-space:pre;overflow-x:auto;line-height:normal;font-family:Menlo,'DejaVu Sans Mono',consolas,'Courier New',monospace\">========================================================================\n",
       "</pre>\n"
      ],
      "text/plain": [
       "========================================================================\n"
      ]
     },
     "metadata": {},
     "output_type": "display_data"
    },
    {
     "data": {
      "text/html": [
       "<pre style=\"white-space:pre;overflow-x:auto;line-height:normal;font-family:Menlo,'DejaVu Sans Mono',consolas,'Courier New',monospace\">Línea  <span style=\"color: #008080; text-decoration-color: #008080; font-weight: bold\">1</span>: <span style=\"color: #008000; text-decoration-color: #008000\">OK</span> - Expresión balanceada.\n",
       "</pre>\n"
      ],
      "text/plain": [
       "Línea  \u001b[1;36m1\u001b[0m: \u001b[32mOK\u001b[0m - Expresión balanceada.\n"
      ]
     },
     "metadata": {},
     "output_type": "display_data"
    },
    {
     "data": {
      "text/html": [
       "<pre style=\"white-space:pre;overflow-x:auto;line-height:normal;font-family:Menlo,'DejaVu Sans Mono',consolas,'Courier New',monospace\">Línea  <span style=\"color: #008080; text-decoration-color: #008080; font-weight: bold\">2</span>: <span style=\"color: #800000; text-decoration-color: #800000\">ERROR</span> - Error: se encontró <span style=\"color: #008000; text-decoration-color: #008000\">']'</span> en la posición <span style=\"color: #008080; text-decoration-color: #008080; font-weight: bold\">17</span> pero la pila estaba vacía.\n",
       "</pre>\n"
      ],
      "text/plain": [
       "Línea  \u001b[1;36m2\u001b[0m: \u001b[31mERROR\u001b[0m - Error: se encontró \u001b[32m'\u001b[0m\u001b[32m]\u001b[0m\u001b[32m'\u001b[0m en la posición \u001b[1;36m17\u001b[0m pero la pila estaba vacía.\n"
      ]
     },
     "metadata": {},
     "output_type": "display_data"
    },
    {
     "data": {
      "text/html": [
       "<pre style=\"white-space:pre;overflow-x:auto;line-height:normal;font-family:Menlo,'DejaVu Sans Mono',consolas,'Courier New',monospace\">Línea  <span style=\"color: #008080; text-decoration-color: #008080; font-weight: bold\">3</span>: <span style=\"color: #800000; text-decoration-color: #800000\">ERROR</span> - Error: se encontró <span style=\"color: #008000; text-decoration-color: #008000\">')'</span> en la posición <span style=\"color: #008080; text-decoration-color: #008080; font-weight: bold\">43</span> pero la pila estaba vacía.\n",
       "</pre>\n"
      ],
      "text/plain": [
       "Línea  \u001b[1;36m3\u001b[0m: \u001b[31mERROR\u001b[0m - Error: se encontró \u001b[32m'\u001b[0m\u001b[32m)\u001b[0m\u001b[32m'\u001b[0m en la posición \u001b[1;36m43\u001b[0m pero la pila estaba vacía.\n"
      ]
     },
     "metadata": {},
     "output_type": "display_data"
    },
    {
     "data": {
      "text/html": [
       "<pre style=\"white-space:pre;overflow-x:auto;line-height:normal;font-family:Menlo,'DejaVu Sans Mono',consolas,'Courier New',monospace\">Línea  <span style=\"color: #008080; text-decoration-color: #008080; font-weight: bold\">4</span>: <span style=\"color: #008000; text-decoration-color: #008000\">OK</span> - Expresión balanceada.\n",
       "</pre>\n"
      ],
      "text/plain": [
       "Línea  \u001b[1;36m4\u001b[0m: \u001b[32mOK\u001b[0m - Expresión balanceada.\n"
      ]
     },
     "metadata": {},
     "output_type": "display_data"
    },
    {
     "data": {
      "text/html": [
       "<pre style=\"white-space:pre;overflow-x:auto;line-height:normal;font-family:Menlo,'DejaVu Sans Mono',consolas,'Courier New',monospace\">Línea  <span style=\"color: #008080; text-decoration-color: #008080; font-weight: bold\">5</span>: <span style=\"color: #800000; text-decoration-color: #800000\">ERROR</span> - Error: se encontró <span style=\"color: #008000; text-decoration-color: #008000\">')'</span> en la posición <span style=\"color: #008080; text-decoration-color: #008080; font-weight: bold\">49</span> pero la pila estaba vacía.\n",
       "</pre>\n"
      ],
      "text/plain": [
       "Línea  \u001b[1;36m5\u001b[0m: \u001b[31mERROR\u001b[0m - Error: se encontró \u001b[32m'\u001b[0m\u001b[32m)\u001b[0m\u001b[32m'\u001b[0m en la posición \u001b[1;36m49\u001b[0m pero la pila estaba vacía.\n"
      ]
     },
     "metadata": {},
     "output_type": "display_data"
    },
    {
     "data": {
      "text/html": [
       "<pre style=\"white-space:pre;overflow-x:auto;line-height:normal;font-family:Menlo,'DejaVu Sans Mono',consolas,'Courier New',monospace\">\n",
       "Código de salida simulado: <span style=\"color: #008080; text-decoration-color: #008080; font-weight: bold\">1</span>\n",
       "</pre>\n"
      ],
      "text/plain": [
       "\n",
       "Código de salida simulado: \u001b[1;36m1\u001b[0m\n"
      ]
     },
     "metadata": {},
     "output_type": "display_data"
    }
   ],
   "source": [
    "# ============================================================\n",
    "#  Balanceador de (), [], {} para Jupyter (una sola celda)\n",
    "#  - Lee lab2.txt línea por línea\n",
    "#  - Muestra pasos de la pila\n",
    "#  - Instala 'rich' con %pip si no está presente\n",
    "# ============================================================\n",
    "\n",
    "# ---------- Auto‑instalador opcional ----------\n",
    "def asegurar_paquetes(paquetes):\n",
    "    import importlib, sys, subprocess\n",
    "    faltantes = [p for p in paquetes if importlib.util.find_spec(p) is None]\n",
    "    if not faltantes:\n",
    "        return\n",
    "    try:                              # ¿Notebook?\n",
    "        get_ipython().run_line_magic(\"pip\", \"install \" + \" \".join(faltantes))\n",
    "    except Exception:                 # Script normal\n",
    "        subprocess.check_call([sys.executable, \"-m\", \"pip\", \"install\", *faltantes])\n",
    "\n",
    "asegurar_paquetes([\"rich\"])\n",
    "\n",
    "# ---------- Imports ----------\n",
    "try:\n",
    "    from rich import print as rprint\n",
    "except Exception:                     # Fallback si rich no se pudo instalar\n",
    "    def rprint(*a, **k): print(*a, **k)\n",
    "\n",
    "from pathlib import Path\n",
    "from dataclasses import dataclass\n",
    "from typing import List, Optional\n",
    "\n",
    "# ---------- Constantes ----------\n",
    "PARES = {')': '(', ']': '[', '}': '{'}\n",
    "ABRE  = set(PARES.values())\n",
    "CIERRA = set(PARES.keys())\n",
    "\n",
    "# ---------- Dataclasses ----------\n",
    "@dataclass\n",
    "class PasoPila:\n",
    "    paso: int\n",
    "    pos_char: int\n",
    "    char: str\n",
    "    accion: str          # 'push', 'pop', 'pop (vacía)'\n",
    "    pila_resultado: str\n",
    "\n",
    "@dataclass\n",
    "class ResultadoLinea:\n",
    "    linea_num: int\n",
    "    expresion: str\n",
    "    balanceada: bool\n",
    "    mensaje: str\n",
    "    pasos: List[PasoPila]\n",
    "\n",
    "# ---------- Lógica principal ----------\n",
    "def inversa(simbolo_apertura: str) -> str:\n",
    "    for k, v in PARES.items():\n",
    "        if v == simbolo_apertura:\n",
    "            return k\n",
    "    return '?'\n",
    "\n",
    "def balancear_expresion(expresion: str, linea_num: int,\n",
    "                        mostrar_pasos: bool = True) -> ResultadoLinea:\n",
    "    pila: List[str] = []\n",
    "    pasos: List[PasoPila] = []\n",
    "    error_msg: Optional[str] = None\n",
    "    paso_id = 1\n",
    "\n",
    "    for i, ch in enumerate(expresion, start=1):\n",
    "        if ch in ABRE:\n",
    "            pila.append(ch)\n",
    "            if mostrar_pasos:\n",
    "                pasos.append(PasoPila(paso_id, i, ch, 'push', ''.join(pila))); paso_id += 1\n",
    "        elif ch in CIERRA:\n",
    "            if pila:\n",
    "                tope = pila.pop()\n",
    "                if mostrar_pasos:\n",
    "                    pasos.append(PasoPila(paso_id, i, ch, 'pop', ''.join(pila))); paso_id += 1\n",
    "                if tope != PARES[ch]:\n",
    "                    error_msg = (f\"Error: se esperaba cerrar '{inversa(tope)}' \"\n",
    "                                 f\"pero apareció '{ch}' en la posición {i}.\")\n",
    "                    break\n",
    "            else:\n",
    "                if mostrar_pasos:\n",
    "                    pasos.append(PasoPila(paso_id, i, ch, 'pop (vacía)', ''.join(pila))); paso_id += 1\n",
    "                error_msg = f\"Error: se encontró '{ch}' en la posición {i} pero la pila estaba vacía.\"\n",
    "                break\n",
    "\n",
    "    if error_msg is None and pila:\n",
    "        faltantes = ''.join(inversa(s) for s in reversed(pila))\n",
    "        error_msg = f\"Error: falta(n) cerrar {faltantes}. La pila no quedó vacía.\"\n",
    "\n",
    "    balanceada = error_msg is None\n",
    "    mensaje = \"Expresión balanceada.\" if balanceada else error_msg\n",
    "    return ResultadoLinea(linea_num, expresion, balanceada, mensaje, pasos)\n",
    "\n",
    "def imprimir_resultado(res: ResultadoLinea, mostrar_pasos: bool = True):\n",
    "    rprint(f\"\\n[bold cyan]Línea {res.linea_num}:[/bold cyan] {res.expresion}\")\n",
    "    rprint(\"Resultado:\", \"[green]✔ Balanceada[/green]\" if res.balanceada else \"[red]✘ NO balanceada[/red]\")\n",
    "    rprint(\"Detalle:\", res.mensaje)\n",
    "    if mostrar_pasos:\n",
    "        rprint(\"\\n  [bold]Pasos de la pila:[/bold]\")\n",
    "        rprint(\"  {:>4} | {:>6} | {:>6} | {:>12} | {}\".format(\"Paso\", \"Pos\", \"Char\", \"Acción\", \"Pila después\"))\n",
    "        rprint(\"  \" + \"-\" * 64)\n",
    "        for p in res.pasos:\n",
    "            rprint(f\"  {p.paso:>4} | {p.pos_char:>6} | {p.char:>6} | {p.accion:>12} | {p.pila_resultado}\")\n",
    "\n",
    "def leer_y_procesar(ruta_archivo: Path, mostrar_pasos: bool = True):\n",
    "    resultados = []\n",
    "    with ruta_archivo.open(encoding='utf-8') as f:\n",
    "        for n_linea, linea in enumerate(f, start=1):\n",
    "            expr = linea.rstrip('\\n')\n",
    "            if expr.strip():\n",
    "                resultados.append(balancear_expresion(expr, n_linea, mostrar_pasos))\n",
    "    return resultados\n",
    "\n",
    "def resumen_final(resultados):\n",
    "    rprint(\"\\n\" + \"=\" * 72)\n",
    "    rprint(\"[bold magenta]RESUMEN[/bold magenta]\")\n",
    "    rprint(\"=\" * 72)\n",
    "    for r in resultados:\n",
    "        estado = \"[green]OK[/green]\" if r.balanceada else \"[red]ERROR[/red]\"\n",
    "        rprint(f\"Línea {r.linea_num:>2}: {estado} - {r.mensaje}\")\n",
    "    return 0 if all(r.balanceada for r in resultados) else 1\n",
    "\n",
    "# ---------- Función que usaremos en el notebook ----------\n",
    "def run_balanceador(path_archivo: str, mostrar_pasos: bool = True):\n",
    "    ruta = Path(path_archivo)\n",
    "    if not ruta.exists():\n",
    "        rprint(f\"[red]El archivo '{ruta}' no existe.[/red]\")\n",
    "        return\n",
    "    resultados = leer_y_procesar(ruta, mostrar_pasos)\n",
    "    for res in resultados:\n",
    "        imprimir_resultado(res, mostrar_pasos)\n",
    "    code = resumen_final(resultados)\n",
    "    rprint(f\"\\nCódigo de salida simulado: {code}\")\n",
    "\n",
    "# ---------- EJECUCIÓN AUTOMÁTICA SOBRE lab2.txt ----------\n",
    "run_balanceador(\"lab2.txt\", mostrar_pasos=True)  # cambia a False si no quieres ver la traza\n"
   ]
  },
  {
   "cell_type": "code",
   "execution_count": 13,
   "id": "1b3ddfc3",
   "metadata": {},
   "outputs": [
    {
     "name": "stdout",
     "output_type": "stream",
     "text": [
      "\n",
      "════════════════════════════════════════════════════════════\n",
      "Línea 1:  𝑎(𝑎|𝑏) ∗ 𝑏 + 𝑎?\n",
      "Postfix :  𝑎𝑎𝑏|· ·∗· ·𝑏· ·+· ·𝑎·?·\n",
      "Pasos:\n",
      "Paso | Token | Acción     | Pila        | Salida\n",
      "-----+-------+------------+-------------+----------------\n",
      "   1 | 𝑎     | output     |             | 𝑎\n",
      "   2 | ·     | push       | ·           | 𝑎\n",
      "   3 | (     | push       | ·(          | 𝑎\n",
      "   4 | 𝑎     | output     | ·(          | 𝑎𝑎\n",
      "   5 | |     | push       | ·(|         | 𝑎𝑎\n",
      "   6 | 𝑏     | output     | ·(|         | 𝑎𝑎𝑏\n",
      "   7 | |     | pop→out    | ·(          | 𝑎𝑎𝑏|\n",
      "   8 | )     | pop (      | ·           | 𝑎𝑎𝑏|\n",
      "   9 | ·     | pop→out    |             | 𝑎𝑎𝑏|·\n",
      "  10 | ·     | push       | ·           | 𝑎𝑎𝑏|·\n",
      "  11 |       | output     | ·           | 𝑎𝑎𝑏|· \n",
      "  12 | ·     | pop→out    |             | 𝑎𝑎𝑏|· ·\n",
      "  13 | ·     | push       | ·           | 𝑎𝑎𝑏|· ·\n",
      "  14 | ∗     | output     | ·           | 𝑎𝑎𝑏|· ·∗\n",
      "  15 | ·     | pop→out    |             | 𝑎𝑎𝑏|· ·∗·\n",
      "  16 | ·     | push       | ·           | 𝑎𝑎𝑏|· ·∗·\n",
      "  17 |       | output     | ·           | 𝑎𝑎𝑏|· ·∗· \n",
      "  18 | ·     | pop→out    |             | 𝑎𝑎𝑏|· ·∗· ·\n",
      "  19 | ·     | push       | ·           | 𝑎𝑎𝑏|· ·∗· ·\n",
      "  20 | 𝑏     | output     | ·           | 𝑎𝑎𝑏|· ·∗· ·𝑏\n",
      "  21 | ·     | pop→out    |             | 𝑎𝑎𝑏|· ·∗· ·𝑏·\n",
      "  22 | ·     | push       | ·           | 𝑎𝑎𝑏|· ·∗· ·𝑏·\n",
      "  23 |       | output     | ·           | 𝑎𝑎𝑏|· ·∗· ·𝑏· \n",
      "  24 | ·     | pop→out    |             | 𝑎𝑎𝑏|· ·∗· ·𝑏· ·\n",
      "  25 | ·     | push       | ·           | 𝑎𝑎𝑏|· ·∗· ·𝑏· ·\n",
      "  26 | +     | push       | ·+          | 𝑎𝑎𝑏|· ·∗· ·𝑏· ·\n",
      "  27 | +     | pop→out    | ·           | 𝑎𝑎𝑏|· ·∗· ·𝑏· ·+\n",
      "  28 | ·     | pop→out    |             | 𝑎𝑎𝑏|· ·∗· ·𝑏· ·+·\n",
      "  29 | ·     | push       | ·           | 𝑎𝑎𝑏|· ·∗· ·𝑏· ·+·\n",
      "  30 |       | output     | ·           | 𝑎𝑎𝑏|· ·∗· ·𝑏· ·+· \n",
      "  31 | ·     | pop→out    |             | 𝑎𝑎𝑏|· ·∗· ·𝑏· ·+· ·\n",
      "  32 | ·     | push       | ·           | 𝑎𝑎𝑏|· ·∗· ·𝑏· ·+· ·\n",
      "  33 | 𝑎     | output     | ·           | 𝑎𝑎𝑏|· ·∗· ·𝑏· ·+· ·𝑎\n",
      "  34 | ·     | pop→out    |             | 𝑎𝑎𝑏|· ·∗· ·𝑏· ·+· ·𝑎·\n",
      "  35 | ·     | push       | ·           | 𝑎𝑎𝑏|· ·∗· ·𝑏· ·+· ·𝑎·\n",
      "  36 | ?     | push       | ·?          | 𝑎𝑎𝑏|· ·∗· ·𝑏· ·+· ·𝑎·\n",
      "  37 | ?     | pop→out    | ·           | 𝑎𝑎𝑏|· ·∗· ·𝑏· ·+· ·𝑎·?\n",
      "  38 | ·     | pop→out    |             | 𝑎𝑎𝑏|· ·∗· ·𝑏· ·+· ·𝑎·?·\n",
      "\n",
      "════════════════════════════════════════════════════════════\n",
      "Línea 2:  A(𝑎|𝑏)𝑏B ∗ [𝑎𝑧]𝑏]\n",
      "Postfix :  A𝑎𝑏|·𝑏·B· ·∗· ·[·𝑎·𝑧·]·𝑏·]·\n",
      "Pasos:\n",
      "Paso | Token | Acción     | Pila        | Salida\n",
      "-----+-------+------------+-------------+----------------\n",
      "   1 | A     | output     |             | A\n",
      "   2 | ·     | push       | ·           | A\n",
      "   3 | (     | push       | ·(          | A\n",
      "   4 | 𝑎     | output     | ·(          | A𝑎\n",
      "   5 | |     | push       | ·(|         | A𝑎\n",
      "   6 | 𝑏     | output     | ·(|         | A𝑎𝑏\n",
      "   7 | |     | pop→out    | ·(          | A𝑎𝑏|\n",
      "   8 | )     | pop (      | ·           | A𝑎𝑏|\n",
      "   9 | ·     | pop→out    |             | A𝑎𝑏|·\n",
      "  10 | ·     | push       | ·           | A𝑎𝑏|·\n",
      "  11 | 𝑏     | output     | ·           | A𝑎𝑏|·𝑏\n",
      "  12 | ·     | pop→out    |             | A𝑎𝑏|·𝑏·\n",
      "  13 | ·     | push       | ·           | A𝑎𝑏|·𝑏·\n",
      "  14 | B     | output     | ·           | A𝑎𝑏|·𝑏·B\n",
      "  15 | ·     | pop→out    |             | A𝑎𝑏|·𝑏·B·\n",
      "  16 | ·     | push       | ·           | A𝑎𝑏|·𝑏·B·\n",
      "  17 |       | output     | ·           | A𝑎𝑏|·𝑏·B· \n",
      "  18 | ·     | pop→out    |             | A𝑎𝑏|·𝑏·B· ·\n",
      "  19 | ·     | push       | ·           | A𝑎𝑏|·𝑏·B· ·\n",
      "  20 | ∗     | output     | ·           | A𝑎𝑏|·𝑏·B· ·∗\n",
      "  21 | ·     | pop→out    |             | A𝑎𝑏|·𝑏·B· ·∗·\n",
      "  22 | ·     | push       | ·           | A𝑎𝑏|·𝑏·B· ·∗·\n",
      "  23 |       | output     | ·           | A𝑎𝑏|·𝑏·B· ·∗· \n",
      "  24 | ·     | pop→out    |             | A𝑎𝑏|·𝑏·B· ·∗· ·\n",
      "  25 | ·     | push       | ·           | A𝑎𝑏|·𝑏·B· ·∗· ·\n",
      "  26 | [     | output     | ·           | A𝑎𝑏|·𝑏·B· ·∗· ·[\n",
      "  27 | ·     | pop→out    |             | A𝑎𝑏|·𝑏·B· ·∗· ·[·\n",
      "  28 | ·     | push       | ·           | A𝑎𝑏|·𝑏·B· ·∗· ·[·\n",
      "  29 | 𝑎     | output     | ·           | A𝑎𝑏|·𝑏·B· ·∗· ·[·𝑎\n",
      "  30 | ·     | pop→out    |             | A𝑎𝑏|·𝑏·B· ·∗· ·[·𝑎·\n",
      "  31 | ·     | push       | ·           | A𝑎𝑏|·𝑏·B· ·∗· ·[·𝑎·\n",
      "  32 | 𝑧     | output     | ·           | A𝑎𝑏|·𝑏·B· ·∗· ·[·𝑎·𝑧\n",
      "  33 | ·     | pop→out    |             | A𝑎𝑏|·𝑏·B· ·∗· ·[·𝑎·𝑧·\n",
      "  34 | ·     | push       | ·           | A𝑎𝑏|·𝑏·B· ·∗· ·[·𝑎·𝑧·\n",
      "  35 | ]     | output     | ·           | A𝑎𝑏|·𝑏·B· ·∗· ·[·𝑎·𝑧·]\n",
      "  36 | ·     | pop→out    |             | A𝑎𝑏|·𝑏·B· ·∗· ·[·𝑎·𝑧·]·\n",
      "  37 | ·     | push       | ·           | A𝑎𝑏|·𝑏·B· ·∗· ·[·𝑎·𝑧·]·\n",
      "  38 | 𝑏     | output     | ·           | A𝑎𝑏|·𝑏·B· ·∗· ·[·𝑎·𝑧·]·𝑏\n",
      "  39 | ·     | pop→out    |             | A𝑎𝑏|·𝑏·B· ·∗· ·[·𝑎·𝑧·]·𝑏·\n",
      "  40 | ·     | push       | ·           | A𝑎𝑏|·𝑏·B· ·∗· ·[·𝑎·𝑧·]·𝑏·\n",
      "  41 | ]     | output     | ·           | A𝑎𝑏|·𝑏·B· ·∗· ·[·𝑎·𝑧·]·𝑏·]\n",
      "  42 | ·     | pop→out    |             | A𝑎𝑏|·𝑏·B· ·∗· ·[·𝑎·𝑧·]·𝑏·]·\n",
      "\n",
      "════════════════════════════════════════════════════════════\n",
      "Línea 3:  (𝑎 ∗ 𝑏 ∗ 𝑐 ∗ 𝑑 ∗ (𝑎|𝑒|𝑖|𝑜|𝑢))𝑒 ∗ 𝑓 ∗ 𝑔 ∗ ℎ){1,2}\n",
      "❌  Error: Paréntesis de cierre sin apertura.\n",
      "Pasos:\n",
      "Paso | Token | Acción     | Pila        | Salida\n",
      "-----+-------+------------+-------------+----------------\n",
      "   1 | (     | push       | (           | \n",
      "   2 | 𝑎     | output     | (           | 𝑎\n",
      "   3 | ·     | push       | (·          | 𝑎\n",
      "   4 |       | output     | (·          | 𝑎 \n",
      "   5 | ·     | pop→out    | (           | 𝑎 ·\n",
      "   6 | ·     | push       | (·          | 𝑎 ·\n",
      "   7 | ∗     | output     | (·          | 𝑎 ·∗\n",
      "   8 | ·     | pop→out    | (           | 𝑎 ·∗·\n",
      "   9 | ·     | push       | (·          | 𝑎 ·∗·\n",
      "  10 |       | output     | (·          | 𝑎 ·∗· \n",
      "  11 | ·     | pop→out    | (           | 𝑎 ·∗· ·\n",
      "  12 | ·     | push       | (·          | 𝑎 ·∗· ·\n",
      "  13 | 𝑏     | output     | (·          | 𝑎 ·∗· ·𝑏\n",
      "  14 | ·     | pop→out    | (           | 𝑎 ·∗· ·𝑏·\n",
      "  15 | ·     | push       | (·          | 𝑎 ·∗· ·𝑏·\n",
      "  16 |       | output     | (·          | 𝑎 ·∗· ·𝑏· \n",
      "  17 | ·     | pop→out    | (           | 𝑎 ·∗· ·𝑏· ·\n",
      "  18 | ·     | push       | (·          | 𝑎 ·∗· ·𝑏· ·\n",
      "  19 | ∗     | output     | (·          | 𝑎 ·∗· ·𝑏· ·∗\n",
      "  20 | ·     | pop→out    | (           | 𝑎 ·∗· ·𝑏· ·∗·\n",
      "  21 | ·     | push       | (·          | 𝑎 ·∗· ·𝑏· ·∗·\n",
      "  22 |       | output     | (·          | 𝑎 ·∗· ·𝑏· ·∗· \n",
      "  23 | ·     | pop→out    | (           | 𝑎 ·∗· ·𝑏· ·∗· ·\n",
      "  24 | ·     | push       | (·          | 𝑎 ·∗· ·𝑏· ·∗· ·\n",
      "  25 | 𝑐     | output     | (·          | 𝑎 ·∗· ·𝑏· ·∗· ·𝑐\n",
      "  26 | ·     | pop→out    | (           | 𝑎 ·∗· ·𝑏· ·∗· ·𝑐·\n",
      "  27 | ·     | push       | (·          | 𝑎 ·∗· ·𝑏· ·∗· ·𝑐·\n",
      "  28 |       | output     | (·          | 𝑎 ·∗· ·𝑏· ·∗· ·𝑐· \n",
      "  29 | ·     | pop→out    | (           | 𝑎 ·∗· ·𝑏· ·∗· ·𝑐· ·\n",
      "  30 | ·     | push       | (·          | 𝑎 ·∗· ·𝑏· ·∗· ·𝑐· ·\n",
      "  31 | ∗     | output     | (·          | 𝑎 ·∗· ·𝑏· ·∗· ·𝑐· ·∗\n",
      "  32 | ·     | pop→out    | (           | 𝑎 ·∗· ·𝑏· ·∗· ·𝑐· ·∗·\n",
      "  33 | ·     | push       | (·          | 𝑎 ·∗· ·𝑏· ·∗· ·𝑐· ·∗·\n",
      "  34 |       | output     | (·          | 𝑎 ·∗· ·𝑏· ·∗· ·𝑐· ·∗· \n",
      "  35 | ·     | pop→out    | (           | 𝑎 ·∗· ·𝑏· ·∗· ·𝑐· ·∗· ·\n",
      "  36 | ·     | push       | (·          | 𝑎 ·∗· ·𝑏· ·∗· ·𝑐· ·∗· ·\n",
      "  37 | 𝑑     | output     | (·          | 𝑎 ·∗· ·𝑏· ·∗· ·𝑐· ·∗· ·𝑑\n",
      "  38 | ·     | pop→out    | (           | 𝑎 ·∗· ·𝑏· ·∗· ·𝑐· ·∗· ·𝑑·\n",
      "  39 | ·     | push       | (·          | 𝑎 ·∗· ·𝑏· ·∗· ·𝑐· ·∗· ·𝑑·\n",
      "  40 |       | output     | (·          | 𝑎 ·∗· ·𝑏· ·∗· ·𝑐· ·∗· ·𝑑· \n",
      "  41 | ·     | pop→out    | (           | 𝑎 ·∗· ·𝑏· ·∗· ·𝑐· ·∗· ·𝑑· ·\n",
      "  42 | ·     | push       | (·          | 𝑎 ·∗· ·𝑏· ·∗· ·𝑐· ·∗· ·𝑑· ·\n",
      "  43 | ∗     | output     | (·          | 𝑎 ·∗· ·𝑏· ·∗· ·𝑐· ·∗· ·𝑑· ·∗\n",
      "  44 | ·     | pop→out    | (           | 𝑎 ·∗· ·𝑏· ·∗· ·𝑐· ·∗· ·𝑑· ·∗·\n",
      "  45 | ·     | push       | (·          | 𝑎 ·∗· ·𝑏· ·∗· ·𝑐· ·∗· ·𝑑· ·∗·\n",
      "  46 |       | output     | (·          | 𝑎 ·∗· ·𝑏· ·∗· ·𝑐· ·∗· ·𝑑· ·∗· \n",
      "  47 | ·     | pop→out    | (           | 𝑎 ·∗· ·𝑏· ·∗· ·𝑐· ·∗· ·𝑑· ·∗· ·\n",
      "  48 | ·     | push       | (·          | 𝑎 ·∗· ·𝑏· ·∗· ·𝑐· ·∗· ·𝑑· ·∗· ·\n",
      "  49 | (     | push       | (·(         | 𝑎 ·∗· ·𝑏· ·∗· ·𝑐· ·∗· ·𝑑· ·∗· ·\n",
      "  50 | 𝑎     | output     | (·(         | 𝑎 ·∗· ·𝑏· ·∗· ·𝑐· ·∗· ·𝑑· ·∗· ·𝑎\n",
      "  51 | |     | push       | (·(|        | 𝑎 ·∗· ·𝑏· ·∗· ·𝑐· ·∗· ·𝑑· ·∗· ·𝑎\n",
      "  52 | 𝑒     | output     | (·(|        | 𝑎 ·∗· ·𝑏· ·∗· ·𝑐· ·∗· ·𝑑· ·∗· ·𝑎𝑒\n",
      "  53 | |     | pop→out    | (·(         | 𝑎 ·∗· ·𝑏· ·∗· ·𝑐· ·∗· ·𝑑· ·∗· ·𝑎𝑒|\n",
      "  54 | |     | push       | (·(|        | 𝑎 ·∗· ·𝑏· ·∗· ·𝑐· ·∗· ·𝑑· ·∗· ·𝑎𝑒|\n",
      "  55 | 𝑖     | output     | (·(|        | 𝑎 ·∗· ·𝑏· ·∗· ·𝑐· ·∗· ·𝑑· ·∗· ·𝑎𝑒|𝑖\n",
      "  56 | |     | pop→out    | (·(         | 𝑎 ·∗· ·𝑏· ·∗· ·𝑐· ·∗· ·𝑑· ·∗· ·𝑎𝑒|𝑖|\n",
      "  57 | |     | push       | (·(|        | 𝑎 ·∗· ·𝑏· ·∗· ·𝑐· ·∗· ·𝑑· ·∗· ·𝑎𝑒|𝑖|\n",
      "  58 | 𝑜     | output     | (·(|        | 𝑎 ·∗· ·𝑏· ·∗· ·𝑐· ·∗· ·𝑑· ·∗· ·𝑎𝑒|𝑖|𝑜\n",
      "  59 | |     | pop→out    | (·(         | 𝑎 ·∗· ·𝑏· ·∗· ·𝑐· ·∗· ·𝑑· ·∗· ·𝑎𝑒|𝑖|𝑜|\n",
      "  60 | |     | push       | (·(|        | 𝑎 ·∗· ·𝑏· ·∗· ·𝑐· ·∗· ·𝑑· ·∗· ·𝑎𝑒|𝑖|𝑜|\n",
      "  61 | 𝑢     | output     | (·(|        | 𝑎 ·∗· ·𝑏· ·∗· ·𝑐· ·∗· ·𝑑· ·∗· ·𝑎𝑒|𝑖|𝑜|𝑢\n",
      "  62 | |     | pop→out    | (·(         | 𝑎 ·∗· ·𝑏· ·∗· ·𝑐· ·∗· ·𝑑· ·∗· ·𝑎𝑒|𝑖|𝑜|𝑢|\n",
      "  63 | )     | pop (      | (·          | 𝑎 ·∗· ·𝑏· ·∗· ·𝑐· ·∗· ·𝑑· ·∗· ·𝑎𝑒|𝑖|𝑜|𝑢|\n",
      "  64 | ·     | pop→out    | (           | 𝑎 ·∗· ·𝑏· ·∗· ·𝑐· ·∗· ·𝑑· ·∗· ·𝑎𝑒|𝑖|𝑜|𝑢|·\n",
      "  65 | )     | pop (      |             | 𝑎 ·∗· ·𝑏· ·∗· ·𝑐· ·∗· ·𝑑· ·∗· ·𝑎𝑒|𝑖|𝑜|𝑢|·\n",
      "  66 | ·     | push       | ·           | 𝑎 ·∗· ·𝑏· ·∗· ·𝑐· ·∗· ·𝑑· ·∗· ·𝑎𝑒|𝑖|𝑜|𝑢|·\n",
      "  67 | 𝑒     | output     | ·           | 𝑎 ·∗· ·𝑏· ·∗· ·𝑐· ·∗· ·𝑑· ·∗· ·𝑎𝑒|𝑖|𝑜|𝑢|·𝑒\n",
      "  68 | ·     | pop→out    |             | 𝑎 ·∗· ·𝑏· ·∗· ·𝑐· ·∗· ·𝑑· ·∗· ·𝑎𝑒|𝑖|𝑜|𝑢|·𝑒·\n",
      "  69 | ·     | push       | ·           | 𝑎 ·∗· ·𝑏· ·∗· ·𝑐· ·∗· ·𝑑· ·∗· ·𝑎𝑒|𝑖|𝑜|𝑢|·𝑒·\n",
      "  70 |       | output     | ·           | 𝑎 ·∗· ·𝑏· ·∗· ·𝑐· ·∗· ·𝑑· ·∗· ·𝑎𝑒|𝑖|𝑜|𝑢|·𝑒· \n",
      "  71 | ·     | pop→out    |             | 𝑎 ·∗· ·𝑏· ·∗· ·𝑐· ·∗· ·𝑑· ·∗· ·𝑎𝑒|𝑖|𝑜|𝑢|·𝑒· ·\n",
      "  72 | ·     | push       | ·           | 𝑎 ·∗· ·𝑏· ·∗· ·𝑐· ·∗· ·𝑑· ·∗· ·𝑎𝑒|𝑖|𝑜|𝑢|·𝑒· ·\n",
      "  73 | ∗     | output     | ·           | 𝑎 ·∗· ·𝑏· ·∗· ·𝑐· ·∗· ·𝑑· ·∗· ·𝑎𝑒|𝑖|𝑜|𝑢|·𝑒· ·∗\n",
      "  74 | ·     | pop→out    |             | 𝑎 ·∗· ·𝑏· ·∗· ·𝑐· ·∗· ·𝑑· ·∗· ·𝑎𝑒|𝑖|𝑜|𝑢|·𝑒· ·∗·\n",
      "  75 | ·     | push       | ·           | 𝑎 ·∗· ·𝑏· ·∗· ·𝑐· ·∗· ·𝑑· ·∗· ·𝑎𝑒|𝑖|𝑜|𝑢|·𝑒· ·∗·\n",
      "  76 |       | output     | ·           | 𝑎 ·∗· ·𝑏· ·∗· ·𝑐· ·∗· ·𝑑· ·∗· ·𝑎𝑒|𝑖|𝑜|𝑢|·𝑒· ·∗· \n",
      "  77 | ·     | pop→out    |             | 𝑎 ·∗· ·𝑏· ·∗· ·𝑐· ·∗· ·𝑑· ·∗· ·𝑎𝑒|𝑖|𝑜|𝑢|·𝑒· ·∗· ·\n",
      "  78 | ·     | push       | ·           | 𝑎 ·∗· ·𝑏· ·∗· ·𝑐· ·∗· ·𝑑· ·∗· ·𝑎𝑒|𝑖|𝑜|𝑢|·𝑒· ·∗· ·\n",
      "  79 | 𝑓     | output     | ·           | 𝑎 ·∗· ·𝑏· ·∗· ·𝑐· ·∗· ·𝑑· ·∗· ·𝑎𝑒|𝑖|𝑜|𝑢|·𝑒· ·∗· ·𝑓\n",
      "  80 | ·     | pop→out    |             | 𝑎 ·∗· ·𝑏· ·∗· ·𝑐· ·∗· ·𝑑· ·∗· ·𝑎𝑒|𝑖|𝑜|𝑢|·𝑒· ·∗· ·𝑓·\n",
      "  81 | ·     | push       | ·           | 𝑎 ·∗· ·𝑏· ·∗· ·𝑐· ·∗· ·𝑑· ·∗· ·𝑎𝑒|𝑖|𝑜|𝑢|·𝑒· ·∗· ·𝑓·\n",
      "  82 |       | output     | ·           | 𝑎 ·∗· ·𝑏· ·∗· ·𝑐· ·∗· ·𝑑· ·∗· ·𝑎𝑒|𝑖|𝑜|𝑢|·𝑒· ·∗· ·𝑓· \n",
      "  83 | ·     | pop→out    |             | 𝑎 ·∗· ·𝑏· ·∗· ·𝑐· ·∗· ·𝑑· ·∗· ·𝑎𝑒|𝑖|𝑜|𝑢|·𝑒· ·∗· ·𝑓· ·\n",
      "  84 | ·     | push       | ·           | 𝑎 ·∗· ·𝑏· ·∗· ·𝑐· ·∗· ·𝑑· ·∗· ·𝑎𝑒|𝑖|𝑜|𝑢|·𝑒· ·∗· ·𝑓· ·\n",
      "  85 | ∗     | output     | ·           | 𝑎 ·∗· ·𝑏· ·∗· ·𝑐· ·∗· ·𝑑· ·∗· ·𝑎𝑒|𝑖|𝑜|𝑢|·𝑒· ·∗· ·𝑓· ·∗\n",
      "  86 | ·     | pop→out    |             | 𝑎 ·∗· ·𝑏· ·∗· ·𝑐· ·∗· ·𝑑· ·∗· ·𝑎𝑒|𝑖|𝑜|𝑢|·𝑒· ·∗· ·𝑓· ·∗·\n",
      "  87 | ·     | push       | ·           | 𝑎 ·∗· ·𝑏· ·∗· ·𝑐· ·∗· ·𝑑· ·∗· ·𝑎𝑒|𝑖|𝑜|𝑢|·𝑒· ·∗· ·𝑓· ·∗·\n",
      "  88 |       | output     | ·           | 𝑎 ·∗· ·𝑏· ·∗· ·𝑐· ·∗· ·𝑑· ·∗· ·𝑎𝑒|𝑖|𝑜|𝑢|·𝑒· ·∗· ·𝑓· ·∗· \n",
      "  89 | ·     | pop→out    |             | 𝑎 ·∗· ·𝑏· ·∗· ·𝑐· ·∗· ·𝑑· ·∗· ·𝑎𝑒|𝑖|𝑜|𝑢|·𝑒· ·∗· ·𝑓· ·∗· ·\n",
      "  90 | ·     | push       | ·           | 𝑎 ·∗· ·𝑏· ·∗· ·𝑐· ·∗· ·𝑑· ·∗· ·𝑎𝑒|𝑖|𝑜|𝑢|·𝑒· ·∗· ·𝑓· ·∗· ·\n",
      "  91 | 𝑔     | output     | ·           | 𝑎 ·∗· ·𝑏· ·∗· ·𝑐· ·∗· ·𝑑· ·∗· ·𝑎𝑒|𝑖|𝑜|𝑢|·𝑒· ·∗· ·𝑓· ·∗· ·𝑔\n",
      "  92 | ·     | pop→out    |             | 𝑎 ·∗· ·𝑏· ·∗· ·𝑐· ·∗· ·𝑑· ·∗· ·𝑎𝑒|𝑖|𝑜|𝑢|·𝑒· ·∗· ·𝑓· ·∗· ·𝑔·\n",
      "  93 | ·     | push       | ·           | 𝑎 ·∗· ·𝑏· ·∗· ·𝑐· ·∗· ·𝑑· ·∗· ·𝑎𝑒|𝑖|𝑜|𝑢|·𝑒· ·∗· ·𝑓· ·∗· ·𝑔·\n",
      "  94 |       | output     | ·           | 𝑎 ·∗· ·𝑏· ·∗· ·𝑐· ·∗· ·𝑑· ·∗· ·𝑎𝑒|𝑖|𝑜|𝑢|·𝑒· ·∗· ·𝑓· ·∗· ·𝑔· \n",
      "  95 | ·     | pop→out    |             | 𝑎 ·∗· ·𝑏· ·∗· ·𝑐· ·∗· ·𝑑· ·∗· ·𝑎𝑒|𝑖|𝑜|𝑢|·𝑒· ·∗· ·𝑓· ·∗· ·𝑔· ·\n",
      "  96 | ·     | push       | ·           | 𝑎 ·∗· ·𝑏· ·∗· ·𝑐· ·∗· ·𝑑· ·∗· ·𝑎𝑒|𝑖|𝑜|𝑢|·𝑒· ·∗· ·𝑓· ·∗· ·𝑔· ·\n",
      "  97 | ∗     | output     | ·           | 𝑎 ·∗· ·𝑏· ·∗· ·𝑐· ·∗· ·𝑑· ·∗· ·𝑎𝑒|𝑖|𝑜|𝑢|·𝑒· ·∗· ·𝑓· ·∗· ·𝑔· ·∗\n",
      "  98 | ·     | pop→out    |             | 𝑎 ·∗· ·𝑏· ·∗· ·𝑐· ·∗· ·𝑑· ·∗· ·𝑎𝑒|𝑖|𝑜|𝑢|·𝑒· ·∗· ·𝑓· ·∗· ·𝑔· ·∗·\n",
      "  99 | ·     | push       | ·           | 𝑎 ·∗· ·𝑏· ·∗· ·𝑐· ·∗· ·𝑑· ·∗· ·𝑎𝑒|𝑖|𝑜|𝑢|·𝑒· ·∗· ·𝑓· ·∗· ·𝑔· ·∗·\n",
      " 100 |       | output     | ·           | 𝑎 ·∗· ·𝑏· ·∗· ·𝑐· ·∗· ·𝑑· ·∗· ·𝑎𝑒|𝑖|𝑜|𝑢|·𝑒· ·∗· ·𝑓· ·∗· ·𝑔· ·∗· \n",
      " 101 | ·     | pop→out    |             | 𝑎 ·∗· ·𝑏· ·∗· ·𝑐· ·∗· ·𝑑· ·∗· ·𝑎𝑒|𝑖|𝑜|𝑢|·𝑒· ·∗· ·𝑓· ·∗· ·𝑔· ·∗· ·\n",
      " 102 | ·     | push       | ·           | 𝑎 ·∗· ·𝑏· ·∗· ·𝑐· ·∗· ·𝑑· ·∗· ·𝑎𝑒|𝑖|𝑜|𝑢|·𝑒· ·∗· ·𝑓· ·∗· ·𝑔· ·∗· ·\n",
      " 103 | ℎ     | output     | ·           | 𝑎 ·∗· ·𝑏· ·∗· ·𝑐· ·∗· ·𝑑· ·∗· ·𝑎𝑒|𝑖|𝑜|𝑢|·𝑒· ·∗· ·𝑓· ·∗· ·𝑔· ·∗· ·ℎ\n",
      " 104 | ·     | pop→out    |             | 𝑎 ·∗· ·𝑏· ·∗· ·𝑐· ·∗· ·𝑑· ·∗· ·𝑎𝑒|𝑖|𝑜|𝑢|·𝑒· ·∗· ·𝑓· ·∗· ·𝑔· ·∗· ·ℎ·\n",
      " 105 | )     | error      |             | 𝑎 ·∗· ·𝑏· ·∗· ·𝑐· ·∗· ·𝑑· ·∗· ·𝑎𝑒|𝑖|𝑜|𝑢|·𝑒· ·∗· ·𝑓· ·∗· ·𝑔· ·∗· ·ℎ·\n",
      "\n",
      "════════════════════════════════════════════════════════════\n",
      "Línea 4:  ^[𝑎𝑍]. 𝑐𝑜𝑚{5,30}\n",
      "Postfix :  [^𝑎·𝑍·]·.· ·𝑐·𝑜·𝑚·{·5·,·3·0·}·\n",
      "Pasos:\n",
      "Paso | Token | Acción     | Pila        | Salida\n",
      "-----+-------+------------+-------------+----------------\n",
      "   1 | ^     | push       | ^           | \n",
      "   2 | [     | output     | ^           | [\n",
      "   3 | ^     | pop→out    |             | [^\n",
      "   4 | ·     | push       | ·           | [^\n",
      "   5 | 𝑎     | output     | ·           | [^𝑎\n",
      "   6 | ·     | pop→out    |             | [^𝑎·\n",
      "   7 | ·     | push       | ·           | [^𝑎·\n",
      "   8 | 𝑍     | output     | ·           | [^𝑎·𝑍\n",
      "   9 | ·     | pop→out    |             | [^𝑎·𝑍·\n",
      "  10 | ·     | push       | ·           | [^𝑎·𝑍·\n",
      "  11 | ]     | output     | ·           | [^𝑎·𝑍·]\n",
      "  12 | ·     | pop→out    |             | [^𝑎·𝑍·]·\n",
      "  13 | ·     | push       | ·           | [^𝑎·𝑍·]·\n",
      "  14 | .     | output     | ·           | [^𝑎·𝑍·]·.\n",
      "  15 | ·     | pop→out    |             | [^𝑎·𝑍·]·.·\n",
      "  16 | ·     | push       | ·           | [^𝑎·𝑍·]·.·\n",
      "  17 |       | output     | ·           | [^𝑎·𝑍·]·.· \n",
      "  18 | ·     | pop→out    |             | [^𝑎·𝑍·]·.· ·\n",
      "  19 | ·     | push       | ·           | [^𝑎·𝑍·]·.· ·\n",
      "  20 | 𝑐     | output     | ·           | [^𝑎·𝑍·]·.· ·𝑐\n",
      "  21 | ·     | pop→out    |             | [^𝑎·𝑍·]·.· ·𝑐·\n",
      "  22 | ·     | push       | ·           | [^𝑎·𝑍·]·.· ·𝑐·\n",
      "  23 | 𝑜     | output     | ·           | [^𝑎·𝑍·]·.· ·𝑐·𝑜\n",
      "  24 | ·     | pop→out    |             | [^𝑎·𝑍·]·.· ·𝑐·𝑜·\n",
      "  25 | ·     | push       | ·           | [^𝑎·𝑍·]·.· ·𝑐·𝑜·\n",
      "  26 | 𝑚     | output     | ·           | [^𝑎·𝑍·]·.· ·𝑐·𝑜·𝑚\n",
      "  27 | ·     | pop→out    |             | [^𝑎·𝑍·]·.· ·𝑐·𝑜·𝑚·\n",
      "  28 | ·     | push       | ·           | [^𝑎·𝑍·]·.· ·𝑐·𝑜·𝑚·\n",
      "  29 | {     | output     | ·           | [^𝑎·𝑍·]·.· ·𝑐·𝑜·𝑚·{\n",
      "  30 | ·     | pop→out    |             | [^𝑎·𝑍·]·.· ·𝑐·𝑜·𝑚·{·\n",
      "  31 | ·     | push       | ·           | [^𝑎·𝑍·]·.· ·𝑐·𝑜·𝑚·{·\n",
      "  32 | 5     | output     | ·           | [^𝑎·𝑍·]·.· ·𝑐·𝑜·𝑚·{·5\n",
      "  33 | ·     | pop→out    |             | [^𝑎·𝑍·]·.· ·𝑐·𝑜·𝑚·{·5·\n",
      "  34 | ·     | push       | ·           | [^𝑎·𝑍·]·.· ·𝑐·𝑜·𝑚·{·5·\n",
      "  35 | ,     | output     | ·           | [^𝑎·𝑍·]·.· ·𝑐·𝑜·𝑚·{·5·,\n",
      "  36 | ·     | pop→out    |             | [^𝑎·𝑍·]·.· ·𝑐·𝑜·𝑚·{·5·,·\n",
      "  37 | ·     | push       | ·           | [^𝑎·𝑍·]·.· ·𝑐·𝑜·𝑚·{·5·,·\n",
      "  38 | 3     | output     | ·           | [^𝑎·𝑍·]·.· ·𝑐·𝑜·𝑚·{·5·,·3\n",
      "  39 | ·     | pop→out    |             | [^𝑎·𝑍·]·.· ·𝑐·𝑜·𝑚·{·5·,·3·\n",
      "  40 | ·     | push       | ·           | [^𝑎·𝑍·]·.· ·𝑐·𝑜·𝑚·{·5·,·3·\n",
      "  41 | 0     | output     | ·           | [^𝑎·𝑍·]·.· ·𝑐·𝑜·𝑚·{·5·,·3·0\n",
      "  42 | ·     | pop→out    |             | [^𝑎·𝑍·]·.· ·𝑐·𝑜·𝑚·{·5·,·3·0·\n",
      "  43 | ·     | push       | ·           | [^𝑎·𝑍·]·.· ·𝑐·𝑜·𝑚·{·5·,·3·0·\n",
      "  44 | }     | output     | ·           | [^𝑎·𝑍·]·.· ·𝑐·𝑜·𝑚·{·5·,·3·0·}\n",
      "  45 | ·     | pop→out    |             | [^𝑎·𝑍·]·.· ·𝑐·𝑜·𝑚·{·5·,·3·0·}·\n",
      "\n",
      "════════════════════════════════════════════════════════════\n",
      "Línea 5:  ([[𝑎𝑧][𝐴𝑍]](((((. |; )|; )|. )|. )|. ){10,20}) ∗) +\n",
      "❌  Error: Paréntesis de cierre sin apertura.\n",
      "Pasos:\n",
      "Paso | Token | Acción     | Pila        | Salida\n",
      "-----+-------+------------+-------------+----------------\n",
      "   1 | (     | push       | (           | \n",
      "   2 | [     | output     | (           | [\n",
      "   3 | ·     | push       | (·          | [\n",
      "   4 | [     | output     | (·          | [[\n",
      "   5 | ·     | pop→out    | (           | [[·\n",
      "   6 | ·     | push       | (·          | [[·\n",
      "   7 | 𝑎     | output     | (·          | [[·𝑎\n",
      "   8 | ·     | pop→out    | (           | [[·𝑎·\n",
      "   9 | ·     | push       | (·          | [[·𝑎·\n",
      "  10 | 𝑧     | output     | (·          | [[·𝑎·𝑧\n",
      "  11 | ·     | pop→out    | (           | [[·𝑎·𝑧·\n",
      "  12 | ·     | push       | (·          | [[·𝑎·𝑧·\n",
      "  13 | ]     | output     | (·          | [[·𝑎·𝑧·]\n",
      "  14 | ·     | pop→out    | (           | [[·𝑎·𝑧·]·\n",
      "  15 | ·     | push       | (·          | [[·𝑎·𝑧·]·\n",
      "  16 | [     | output     | (·          | [[·𝑎·𝑧·]·[\n",
      "  17 | ·     | pop→out    | (           | [[·𝑎·𝑧·]·[·\n",
      "  18 | ·     | push       | (·          | [[·𝑎·𝑧·]·[·\n",
      "  19 | 𝐴     | output     | (·          | [[·𝑎·𝑧·]·[·𝐴\n",
      "  20 | ·     | pop→out    | (           | [[·𝑎·𝑧·]·[·𝐴·\n",
      "  21 | ·     | push       | (·          | [[·𝑎·𝑧·]·[·𝐴·\n",
      "  22 | 𝑍     | output     | (·          | [[·𝑎·𝑧·]·[·𝐴·𝑍\n",
      "  23 | ·     | pop→out    | (           | [[·𝑎·𝑧·]·[·𝐴·𝑍·\n",
      "  24 | ·     | push       | (·          | [[·𝑎·𝑧·]·[·𝐴·𝑍·\n",
      "  25 | ]     | output     | (·          | [[·𝑎·𝑧·]·[·𝐴·𝑍·]\n",
      "  26 | ·     | pop→out    | (           | [[·𝑎·𝑧·]·[·𝐴·𝑍·]·\n",
      "  27 | ·     | push       | (·          | [[·𝑎·𝑧·]·[·𝐴·𝑍·]·\n",
      "  28 | ]     | output     | (·          | [[·𝑎·𝑧·]·[·𝐴·𝑍·]·]\n",
      "  29 | ·     | pop→out    | (           | [[·𝑎·𝑧·]·[·𝐴·𝑍·]·]·\n",
      "  30 | ·     | push       | (·          | [[·𝑎·𝑧·]·[·𝐴·𝑍·]·]·\n",
      "  31 | (     | push       | (·(         | [[·𝑎·𝑧·]·[·𝐴·𝑍·]·]·\n",
      "  32 | (     | push       | (·((        | [[·𝑎·𝑧·]·[·𝐴·𝑍·]·]·\n",
      "  33 | (     | push       | (·(((       | [[·𝑎·𝑧·]·[·𝐴·𝑍·]·]·\n",
      "  34 | (     | push       | (·((((      | [[·𝑎·𝑧·]·[·𝐴·𝑍·]·]·\n",
      "  35 | (     | push       | (·(((((     | [[·𝑎·𝑧·]·[·𝐴·𝑍·]·]·\n",
      "  36 | .     | output     | (·(((((     | [[·𝑎·𝑧·]·[·𝐴·𝑍·]·]·.\n",
      "  37 | ·     | push       | (·(((((·    | [[·𝑎·𝑧·]·[·𝐴·𝑍·]·]·.\n",
      "  38 |       | output     | (·(((((·    | [[·𝑎·𝑧·]·[·𝐴·𝑍·]·]·. \n",
      "  39 | ·     | pop→out    | (·(((((     | [[·𝑎·𝑧·]·[·𝐴·𝑍·]·]·. ·\n",
      "  40 | |     | push       | (·(((((|    | [[·𝑎·𝑧·]·[·𝐴·𝑍·]·]·. ·\n",
      "  41 | ;     | output     | (·(((((|    | [[·𝑎·𝑧·]·[·𝐴·𝑍·]·]·. ·;\n",
      "  42 | ·     | push       | (·(((((|·   | [[·𝑎·𝑧·]·[·𝐴·𝑍·]·]·. ·;\n",
      "  43 |       | output     | (·(((((|·   | [[·𝑎·𝑧·]·[·𝐴·𝑍·]·]·. ·; \n",
      "  44 | ·     | pop→out    | (·(((((|    | [[·𝑎·𝑧·]·[·𝐴·𝑍·]·]·. ·; ·\n",
      "  45 | |     | pop→out    | (·(((((     | [[·𝑎·𝑧·]·[·𝐴·𝑍·]·]·. ·; ·|\n",
      "  46 | )     | pop (      | (·((((      | [[·𝑎·𝑧·]·[·𝐴·𝑍·]·]·. ·; ·|\n",
      "  47 | |     | push       | (·((((|     | [[·𝑎·𝑧·]·[·𝐴·𝑍·]·]·. ·; ·|\n",
      "  48 | ;     | output     | (·((((|     | [[·𝑎·𝑧·]·[·𝐴·𝑍·]·]·. ·; ·|;\n",
      "  49 | ·     | push       | (·((((|·    | [[·𝑎·𝑧·]·[·𝐴·𝑍·]·]·. ·; ·|;\n",
      "  50 |       | output     | (·((((|·    | [[·𝑎·𝑧·]·[·𝐴·𝑍·]·]·. ·; ·|; \n",
      "  51 | ·     | pop→out    | (·((((|     | [[·𝑎·𝑧·]·[·𝐴·𝑍·]·]·. ·; ·|; ·\n",
      "  52 | |     | pop→out    | (·((((      | [[·𝑎·𝑧·]·[·𝐴·𝑍·]·]·. ·; ·|; ·|\n",
      "  53 | )     | pop (      | (·(((       | [[·𝑎·𝑧·]·[·𝐴·𝑍·]·]·. ·; ·|; ·|\n",
      "  54 | |     | push       | (·(((|      | [[·𝑎·𝑧·]·[·𝐴·𝑍·]·]·. ·; ·|; ·|\n",
      "  55 | .     | output     | (·(((|      | [[·𝑎·𝑧·]·[·𝐴·𝑍·]·]·. ·; ·|; ·|.\n",
      "  56 | ·     | push       | (·(((|·     | [[·𝑎·𝑧·]·[·𝐴·𝑍·]·]·. ·; ·|; ·|.\n",
      "  57 |       | output     | (·(((|·     | [[·𝑎·𝑧·]·[·𝐴·𝑍·]·]·. ·; ·|; ·|. \n",
      "  58 | ·     | pop→out    | (·(((|      | [[·𝑎·𝑧·]·[·𝐴·𝑍·]·]·. ·; ·|; ·|. ·\n",
      "  59 | |     | pop→out    | (·(((       | [[·𝑎·𝑧·]·[·𝐴·𝑍·]·]·. ·; ·|; ·|. ·|\n",
      "  60 | )     | pop (      | (·((        | [[·𝑎·𝑧·]·[·𝐴·𝑍·]·]·. ·; ·|; ·|. ·|\n",
      "  61 | |     | push       | (·((|       | [[·𝑎·𝑧·]·[·𝐴·𝑍·]·]·. ·; ·|; ·|. ·|\n",
      "  62 | .     | output     | (·((|       | [[·𝑎·𝑧·]·[·𝐴·𝑍·]·]·. ·; ·|; ·|. ·|.\n",
      "  63 | ·     | push       | (·((|·      | [[·𝑎·𝑧·]·[·𝐴·𝑍·]·]·. ·; ·|; ·|. ·|.\n",
      "  64 |       | output     | (·((|·      | [[·𝑎·𝑧·]·[·𝐴·𝑍·]·]·. ·; ·|; ·|. ·|. \n",
      "  65 | ·     | pop→out    | (·((|       | [[·𝑎·𝑧·]·[·𝐴·𝑍·]·]·. ·; ·|; ·|. ·|. ·\n",
      "  66 | |     | pop→out    | (·((        | [[·𝑎·𝑧·]·[·𝐴·𝑍·]·]·. ·; ·|; ·|. ·|. ·|\n",
      "  67 | )     | pop (      | (·(         | [[·𝑎·𝑧·]·[·𝐴·𝑍·]·]·. ·; ·|; ·|. ·|. ·|\n",
      "  68 | |     | push       | (·(|        | [[·𝑎·𝑧·]·[·𝐴·𝑍·]·]·. ·; ·|; ·|. ·|. ·|\n",
      "  69 | .     | output     | (·(|        | [[·𝑎·𝑧·]·[·𝐴·𝑍·]·]·. ·; ·|; ·|. ·|. ·|.\n",
      "  70 | ·     | push       | (·(|·       | [[·𝑎·𝑧·]·[·𝐴·𝑍·]·]·. ·; ·|; ·|. ·|. ·|.\n",
      "  71 |       | output     | (·(|·       | [[·𝑎·𝑧·]·[·𝐴·𝑍·]·]·. ·; ·|; ·|. ·|. ·|. \n",
      "  72 | ·     | pop→out    | (·(|        | [[·𝑎·𝑧·]·[·𝐴·𝑍·]·]·. ·; ·|; ·|. ·|. ·|. ·\n",
      "  73 | |     | pop→out    | (·(         | [[·𝑎·𝑧·]·[·𝐴·𝑍·]·]·. ·; ·|; ·|. ·|. ·|. ·|\n",
      "  74 | )     | pop (      | (·          | [[·𝑎·𝑧·]·[·𝐴·𝑍·]·]·. ·; ·|; ·|. ·|. ·|. ·|\n",
      "  75 | ·     | pop→out    | (           | [[·𝑎·𝑧·]·[·𝐴·𝑍·]·]·. ·; ·|; ·|. ·|. ·|. ·|·\n",
      "  76 | ·     | push       | (·          | [[·𝑎·𝑧·]·[·𝐴·𝑍·]·]·. ·; ·|; ·|. ·|. ·|. ·|·\n",
      "  77 | {     | output     | (·          | [[·𝑎·𝑧·]·[·𝐴·𝑍·]·]·. ·; ·|; ·|. ·|. ·|. ·|·{\n",
      "  78 | ·     | pop→out    | (           | [[·𝑎·𝑧·]·[·𝐴·𝑍·]·]·. ·; ·|; ·|. ·|. ·|. ·|·{·\n",
      "  79 | ·     | push       | (·          | [[·𝑎·𝑧·]·[·𝐴·𝑍·]·]·. ·; ·|; ·|. ·|. ·|. ·|·{·\n",
      "  80 | 1     | output     | (·          | [[·𝑎·𝑧·]·[·𝐴·𝑍·]·]·. ·; ·|; ·|. ·|. ·|. ·|·{·1\n",
      "  81 | ·     | pop→out    | (           | [[·𝑎·𝑧·]·[·𝐴·𝑍·]·]·. ·; ·|; ·|. ·|. ·|. ·|·{·1·\n",
      "  82 | ·     | push       | (·          | [[·𝑎·𝑧·]·[·𝐴·𝑍·]·]·. ·; ·|; ·|. ·|. ·|. ·|·{·1·\n",
      "  83 | 0     | output     | (·          | [[·𝑎·𝑧·]·[·𝐴·𝑍·]·]·. ·; ·|; ·|. ·|. ·|. ·|·{·1·0\n",
      "  84 | ·     | pop→out    | (           | [[·𝑎·𝑧·]·[·𝐴·𝑍·]·]·. ·; ·|; ·|. ·|. ·|. ·|·{·1·0·\n",
      "  85 | ·     | push       | (·          | [[·𝑎·𝑧·]·[·𝐴·𝑍·]·]·. ·; ·|; ·|. ·|. ·|. ·|·{·1·0·\n",
      "  86 | ,     | output     | (·          | [[·𝑎·𝑧·]·[·𝐴·𝑍·]·]·. ·; ·|; ·|. ·|. ·|. ·|·{·1·0·,\n",
      "  87 | ·     | pop→out    | (           | [[·𝑎·𝑧·]·[·𝐴·𝑍·]·]·. ·; ·|; ·|. ·|. ·|. ·|·{·1·0·,·\n",
      "  88 | ·     | push       | (·          | [[·𝑎·𝑧·]·[·𝐴·𝑍·]·]·. ·; ·|; ·|. ·|. ·|. ·|·{·1·0·,·\n",
      "  89 | 2     | output     | (·          | [[·𝑎·𝑧·]·[·𝐴·𝑍·]·]·. ·; ·|; ·|. ·|. ·|. ·|·{·1·0·,·2\n",
      "  90 | ·     | pop→out    | (           | [[·𝑎·𝑧·]·[·𝐴·𝑍·]·]·. ·; ·|; ·|. ·|. ·|. ·|·{·1·0·,·2·\n",
      "  91 | ·     | push       | (·          | [[·𝑎·𝑧·]·[·𝐴·𝑍·]·]·. ·; ·|; ·|. ·|. ·|. ·|·{·1·0·,·2·\n",
      "  92 | 0     | output     | (·          | [[·𝑎·𝑧·]·[·𝐴·𝑍·]·]·. ·; ·|; ·|. ·|. ·|. ·|·{·1·0·,·2·0\n",
      "  93 | ·     | pop→out    | (           | [[·𝑎·𝑧·]·[·𝐴·𝑍·]·]·. ·; ·|; ·|. ·|. ·|. ·|·{·1·0·,·2·0·\n",
      "  94 | ·     | push       | (·          | [[·𝑎·𝑧·]·[·𝐴·𝑍·]·]·. ·; ·|; ·|. ·|. ·|. ·|·{·1·0·,·2·0·\n",
      "  95 | }     | output     | (·          | [[·𝑎·𝑧·]·[·𝐴·𝑍·]·]·. ·; ·|; ·|. ·|. ·|. ·|·{·1·0·,·2·0·}\n",
      "  96 | ·     | pop→out    | (           | [[·𝑎·𝑧·]·[·𝐴·𝑍·]·]·. ·; ·|; ·|. ·|. ·|. ·|·{·1·0·,·2·0·}·\n",
      "  97 | )     | pop (      |             | [[·𝑎·𝑧·]·[·𝐴·𝑍·]·]·. ·; ·|; ·|. ·|. ·|. ·|·{·1·0·,·2·0·}·\n",
      "  98 | ·     | push       | ·           | [[·𝑎·𝑧·]·[·𝐴·𝑍·]·]·. ·; ·|; ·|. ·|. ·|. ·|·{·1·0·,·2·0·}·\n",
      "  99 |       | output     | ·           | [[·𝑎·𝑧·]·[·𝐴·𝑍·]·]·. ·; ·|; ·|. ·|. ·|. ·|·{·1·0·,·2·0·}· \n",
      " 100 | ·     | pop→out    |             | [[·𝑎·𝑧·]·[·𝐴·𝑍·]·]·. ·; ·|; ·|. ·|. ·|. ·|·{·1·0·,·2·0·}· ·\n",
      " 101 | ·     | push       | ·           | [[·𝑎·𝑧·]·[·𝐴·𝑍·]·]·. ·; ·|; ·|. ·|. ·|. ·|·{·1·0·,·2·0·}· ·\n",
      " 102 | ∗     | output     | ·           | [[·𝑎·𝑧·]·[·𝐴·𝑍·]·]·. ·; ·|; ·|. ·|. ·|. ·|·{·1·0·,·2·0·}· ·∗\n",
      " 103 | ·     | pop→out    |             | [[·𝑎·𝑧·]·[·𝐴·𝑍·]·]·. ·; ·|; ·|. ·|. ·|. ·|·{·1·0·,·2·0·}· ·∗·\n",
      " 104 | )     | error      |             | [[·𝑎·𝑧·]·[·𝐴·𝑍·]·]·. ·; ·|; ·|. ·|. ·|. ·|·{·1·0·,·2·0·}· ·∗·\n"
     ]
    }
   ],
   "source": [
    "# ============================================================\n",
    "#  Shunting‑Yard (versión robusta) con manejo de errores\n",
    "# ============================================================\n",
    "from pathlib import Path\n",
    "from dataclasses import dataclass\n",
    "from typing import List\n",
    "\n",
    "# ---------- Precedencias ----------\n",
    "PREC = {'|': 2, '·': 3, '?': 4, '*': 4, '+': 4, '^': 5, '(': 1}\n",
    "\n",
    "# ---------- Dataclasses ----------\n",
    "@dataclass\n",
    "class PasoSY:\n",
    "    paso  : int\n",
    "    token : str\n",
    "    accion: str          # push / pop / output / error\n",
    "    pila  : str\n",
    "    salida: str\n",
    "\n",
    "@dataclass\n",
    "class ResultadoSY:\n",
    "    linea     : int\n",
    "    original  : str\n",
    "    postfix   : str\n",
    "    error_msg : str | None\n",
    "    pasos     : List[PasoSY]\n",
    "\n",
    "# ---------- Utilidades ----------\n",
    "def es_operador(tok: str) -> bool:\n",
    "    return tok in PREC and tok != '('\n",
    "\n",
    "def tokenizar(regex: str) -> List[str]:\n",
    "    tokens = []\n",
    "    i = 0\n",
    "    while i < len(regex):\n",
    "        if regex[i] == '\\\\' and i + 1 < len(regex):\n",
    "            tokens.append(regex[i:i+2]); i += 2\n",
    "        else:\n",
    "            tokens.append(regex[i]);    i += 1\n",
    "    return tokens\n",
    "\n",
    "def necesita_concat(c1: str, c2: str) -> bool:\n",
    "    if c1 == '(' or c2 == ')' : return False\n",
    "    if c2 == '|'              : return False\n",
    "    if es_operador(c1) and PREC[c1] != 4: return False\n",
    "    return True\n",
    "\n",
    "def format_regex(regex: str) -> List[str]:\n",
    "    toks = tokenizar(regex)\n",
    "    if not toks: return []\n",
    "    res = []\n",
    "    for i, t1 in enumerate(toks[:-1]):\n",
    "        t2 = toks[i+1]\n",
    "        res.append(t1)\n",
    "        if necesita_concat(t1[-1], t2[0]):\n",
    "            res.append('·')\n",
    "    res.append(toks[-1])\n",
    "    return res\n",
    "\n",
    "# ---------- Algoritmo principal ----------\n",
    "def infix_to_postfix(regex: str, idx_linea: int) -> ResultadoSY:\n",
    "    tokens = format_regex(regex)\n",
    "    salida: List[str] = []\n",
    "    pila  : List[str] = []\n",
    "    pasos : List[PasoSY] = []\n",
    "    step  = 1\n",
    "    error = None\n",
    "\n",
    "    def push(tok):\n",
    "        nonlocal step\n",
    "        pila.append(tok)\n",
    "        pasos.append(PasoSY(step, tok, 'push', ''.join(pila), ''.join(salida))); step += 1\n",
    "\n",
    "    def pop_to_output():\n",
    "        nonlocal step\n",
    "        tok = pila.pop()\n",
    "        salida.append(tok)\n",
    "        pasos.append(PasoSY(step, tok, 'pop→out', ''.join(pila), ''.join(salida))); step += 1\n",
    "\n",
    "    for tok in tokens:\n",
    "        if error: break\n",
    "\n",
    "        if tok == '(':\n",
    "            push(tok)\n",
    "\n",
    "        elif tok == ')':\n",
    "            if not pila:\n",
    "                error = \"Paréntesis de cierre sin apertura.\"\n",
    "                pasos.append(PasoSY(step, tok, 'error', ''.join(pila), ''.join(salida))); step += 1\n",
    "                break\n",
    "            while pila and pila[-1] != '(':\n",
    "                pop_to_output()\n",
    "                if not pila:  # nunca apareció '('\n",
    "                    error = \"Paréntesis de cierre sin apertura.\"\n",
    "                    pasos.append(PasoSY(step, tok, 'error', ''.join(pila), ''.join(salida))); step += 1\n",
    "                    break\n",
    "            if error: break\n",
    "            pila.pop()  # descartar '('\n",
    "            pasos.append(PasoSY(step, ')', 'pop (', ''.join(pila), ''.join(salida))); step += 1\n",
    "\n",
    "        elif es_operador(tok):\n",
    "            while pila and es_operador(pila[-1]) and PREC[pila[-1]] >= PREC[tok]:\n",
    "                pop_to_output()\n",
    "            push(tok)\n",
    "\n",
    "        else:  # literal\n",
    "            salida.append(tok)\n",
    "            pasos.append(PasoSY(step, tok, 'output', ''.join(pila), ''.join(salida))); step += 1\n",
    "\n",
    "    if not error:\n",
    "        while pila and pila[-1] != '(':\n",
    "            pop_to_output()\n",
    "        if pila and pila[-1] == '(':\n",
    "            error = \"Paréntesis de apertura sin cierre.\"\n",
    "            pasos.append(PasoSY(step, '', 'error', ''.join(pila), ''.join(salida))); step += 1\n",
    "\n",
    "    postfix = ''.join(salida)\n",
    "    return ResultadoSY(idx_linea, regex, postfix, error, pasos)\n",
    "\n",
    "# ---------- Función de usuario ----------\n",
    "def run_shunting(path_file: str, mostrar_pasos: bool = True):\n",
    "    ruta = Path(path_file)\n",
    "    if not ruta.exists():\n",
    "        print(f\"❌ El archivo {ruta} no existe.\"); return\n",
    "\n",
    "    for idx, linea in enumerate(ruta.read_text(encoding='utf-8').splitlines(), 1):\n",
    "        expr = linea.strip()\n",
    "        if not expr: continue\n",
    "        res = infix_to_postfix(expr, idx)\n",
    "        print(\"\\n\" + \"═\"*60)\n",
    "        print(f\"Línea {idx}:  {expr}\")\n",
    "        if res.error_msg:\n",
    "            print(f\"❌  Error: {res.error_msg}\")\n",
    "        else:\n",
    "            print(f\"Postfix :  {res.postfix}\")\n",
    "        if mostrar_pasos:\n",
    "            print(\"Pasos:\")\n",
    "            print(\"Paso | Token | Acción     | Pila        | Salida\")\n",
    "            print(\"-----+-------+------------+-------------+----------------\")\n",
    "            for p in res.pasos:\n",
    "                print(f\"{p.paso:>4} | {p.token:<5} | {p.accion:<10} | {p.pila:<11} | {p.salida}\")\n",
    "run_shunting(\"lab2.txt\", mostrar_pasos=True)\n"
   ]
  }
 ],
 "metadata": {
  "kernelspec": {
   "display_name": "Python 3",
   "language": "python",
   "name": "python3"
  },
  "language_info": {
   "codemirror_mode": {
    "name": "ipython",
    "version": 3
   },
   "file_extension": ".py",
   "mimetype": "text/x-python",
   "name": "python",
   "nbconvert_exporter": "python",
   "pygments_lexer": "ipython3",
   "version": "3.11.0"
  }
 },
 "nbformat": 4,
 "nbformat_minor": 5
}
